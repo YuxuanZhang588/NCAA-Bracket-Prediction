{
 "cells": [
  {
   "cell_type": "code",
   "execution_count": 1,
   "metadata": {},
   "outputs": [],
   "source": [
    "import numpy as np\n",
    "import pandas as pd\n",
    "import matplotlib.pylab as plt\n",
    "import matplotlib as mpl\n",
    "from matplotlib.patches import Circle, Rectangle, Arc\n",
    "\n",
    "\n",
    "from sklearn.model_selection import train_test_split\n",
    "from sklearn.metrics import accuracy_score, log_loss\n",
    "from sklearn.ensemble import RandomForestRegressor\n",
    "from sklearn.linear_model import LinearRegression,  LogisticRegression, Lasso, RidgeCV, BayesianRidge\n",
    "from sklearn import svm\n",
    "import xgboost as xgb\n",
    "from sklearn.model_selection import GroupKFold\n",
    "\n",
    "plt.style.use(\"fivethirtyeight\")\n",
    "mypal = plt.rcParams[\"axes.prop_cycle\"].by_key()[\"color\"]"
   ]
  },
  {
   "cell_type": "code",
   "execution_count": 2,
   "metadata": {},
   "outputs": [],
   "source": [
    "import warnings\n",
    "warnings.filterwarnings('ignore')"
   ]
  },
  {
   "cell_type": "code",
   "execution_count": 3,
   "metadata": {},
   "outputs": [],
   "source": [
    "import os\n",
    "os.chdir('E:\\iCloudDrive\\Desktop\\Probability Machine Learning\\Project')\n",
    "data_path = \"march-machine-learning-mania-2024/\""
   ]
  },
  {
   "cell_type": "code",
   "execution_count": 4,
   "metadata": {},
   "outputs": [],
   "source": [
    "# Function to load information\n",
    "def loading(file_name, league):\n",
    "    file_path = data_path + file_name\n",
    "    return pd.read_csv(file_path).assign(League=league)\n",
    "\n",
    "# Load and merge Men's and Women's NCAA tournament seeds\n",
    "tournament_seeds = pd.concat([\n",
    "    loading(\"MNCAATourneySeeds.csv\", 'M'),\n",
    "    loading(\"WNCAATourneySeeds.csv\", 'W'),\n",
    "]).reset_index(drop=True)\n",
    "\n",
    "# Load and merge Men's and Women's NCAA season detailed results\n",
    "season_detailed_results = pd.concat([\n",
    "    loading(\"MRegularSeasonDetailedResults.csv\", 'M'),\n",
    "    loading(\"WRegularSeasonDetailedResults.csv\", 'W'),\n",
    "]).reset_index(drop=True)\n",
    "\n",
    "# Load and merge Men's and Women's NCAA tournament compact results\n",
    "tournament_compact_results = pd.concat([\n",
    "    loading(\"MNCAATourneyCompactResults.csv\", 'M'),\n",
    "    loading(\"WNCAATourneyCompactResults.csv\", 'W'),\n",
    "]).reset_index(drop=True)\n"
   ]
  },
  {
   "cell_type": "code",
   "execution_count": 5,
   "metadata": {},
   "outputs": [],
   "source": [
    "# Define a function to prepare season results data with new column names\n",
    "def prepare_season_results(df, team_prefix, result_flag):\n",
    "    columns_map = {\n",
    "        f\"{team_prefix}TeamID\": \"TeamID\", \n",
    "        f\"{team_prefix}Score\": \"TeamScore\",\n",
    "        \"LScore\" if team_prefix == \"W\" else \"WScore\": \"OppScore\",\n",
    "        f\"{team_prefix}FGM\": \"FieldGoalsMade\", \n",
    "        f\"{team_prefix}FGA\": \"FieldGoalsAtp\",\n",
    "        f\"{team_prefix}FGM3\": \"ThreePointersMade\", \n",
    "        f\"{team_prefix}FGA3\": \"ThreePointersAtp\",\n",
    "        f\"{team_prefix}FTM\": \"FreeThrowsMade\", \n",
    "        f\"{team_prefix}FTA\": \"FreeThrowsAtp\",\n",
    "        f\"{team_prefix}OR\": \"OffensiveRebound\", \n",
    "        f\"{team_prefix}DR\": \"DefensiveRebound\",\n",
    "        f\"{team_prefix}Ast\": \"Assists\", \n",
    "        f\"{team_prefix}TO\": \"Turnovers\", \n",
    "        f\"{team_prefix}Stl\": \"Steals\",\n",
    "        f\"{team_prefix}Blk\": \"Blocks\", \n",
    "        f\"{team_prefix}PF\": \"PersonalFouls\"\n",
    "    }\n",
    "    return (\n",
    "        df[[col for col in columns_map.keys() if col in df.columns] + [\"Season\", \"League\", \"DayNum\"]]\n",
    "        .assign(GameResult=result_flag)\n",
    "        .rename(columns=columns_map)\n",
    "    )\n",
    "\n",
    "# Load and process season results for both winning and losing teams\n",
    "df_team_season_results = pd.concat([\n",
    "    prepare_season_results(season_detailed_results, \"W\", \"W\"),\n",
    "    prepare_season_results(season_detailed_results, \"L\", \"L\"),\n",
    "]).reset_index(drop=True)\n",
    "\n",
    "# Calculate additional metrics based on the processed data\n",
    "df_team_season_results[\"ScoreDiff\"] = df_team_season_results[\"TeamScore\"] - df_team_season_results[\"OppScore\"]\n",
    "df_team_season_results[\"Win\"] = (df_team_season_results[\"GameResult\"] == \"W\").astype(int)\n",
    "df_team_season_results[\"ThreePointerHitRate\"] = df_team_season_results[\"ThreePointersMade\"] / df_team_season_results[\"ThreePointersAtp\"]\n",
    "df_team_season_results[\"FieldGoalsPercentage\"] = df_team_season_results[\"FieldGoalsMade\"] / df_team_season_results[\"FieldGoalsAtp\"]\n",
    "df_team_season_results[\"FreeThrowHitRate\"] = df_team_season_results[\"FreeThrowsMade\"] / df_team_season_results[\"FreeThrowsAtp\"]\n"
   ]
  },
  {
   "cell_type": "code",
   "execution_count": 6,
   "metadata": {},
   "outputs": [],
   "source": [
    "team_season_agg = (\n",
    "    df_team_season_results.groupby([\"Season\", \"TeamID\", \"League\"])\n",
    "    .agg(\n",
    "        AvgScoreDiff=(\"ScoreDiff\", \"mean\"),\n",
    "        AvgThreePointerMade=(\"ThreePointersMade\", \"mean\"),\n",
    "        AvgThreePointerAtp=(\"ThreePointersAtp\", \"mean\"),\n",
    "        AvgFreeThrowsMade= (\"FreeThrowsMade\", \"mean\"),\n",
    "        AvgFreeThrowsAtp=(\"FreeThrowsAtp\", \"mean\"),\n",
    "        AvgFieldGoalsMade=(\"FieldGoalsMade\", \"mean\"),\n",
    "        AvgFieldGoalsAtp=(\"FieldGoalsAtp\", \"mean\"),\n",
    "        AvgThreePointerHitRate=(\"ThreePointerHitRate\", \"mean\"),\n",
    "        AvgFieldGoalsPercentage=(\"FieldGoalsPercentage\", \"mean\"),\n",
    "        AvgFreeThrowHitRate=(\"FreeThrowHitRate\", \"mean\"),\n",
    "        MedianScoreDiff=(\"ScoreDiff\", \"median\"),\n",
    "        MinScoreDiff=(\"ScoreDiff\", \"min\"),\n",
    "        MaxScoreDiff=(\"ScoreDiff\", \"max\"),\n",
    "        Wins=(\"Win\", \"sum\"),\n",
    "        Losses=(\"GameResult\", lambda x: (x == \"L\").sum()),\n",
    "        WinPercentage=(\"Win\", \"mean\"),\n",
    "    )\n",
    "    .reset_index()\n",
    ")"
   ]
  },
  {
   "cell_type": "code",
   "execution_count": 7,
   "metadata": {},
   "outputs": [],
   "source": [
    "# Aggregating team season results with detailed statistical metrics\n",
    "team_season_agg = (\n",
    "    df_team_season_results.groupby([\"Season\", \"TeamID\", \"League\"])\n",
    "    .agg(\n",
    "        AvgScoreDiff=pd.NamedAgg(column=\"ScoreDiff\", aggfunc=\"mean\"),\n",
    "        AvgThreePointerMade=pd.NamedAgg(column=\"ThreePointersMade\", aggfunc=\"mean\"),\n",
    "        AvgThreePointerAtp=pd.NamedAgg(column=\"ThreePointersAtp\", aggfunc=\"mean\"),\n",
    "        AvgFreeThrowsMade=pd.NamedAgg(column=\"FreeThrowsMade\", aggfunc=\"mean\"),\n",
    "        AvgFreeThrowsAtp=pd.NamedAgg(column=\"FreeThrowsAtp\", aggfunc=\"mean\"),\n",
    "        AvgFieldGoalsMade=pd.NamedAgg(column=\"FieldGoalsMade\", aggfunc=\"mean\"),\n",
    "        AvgFieldGoalsAtp=pd.NamedAgg(column=\"FieldGoalsAtp\", aggfunc=\"mean\"),\n",
    "        AvgThreePointerHitRate=pd.NamedAgg(column=\"ThreePointerHitRate\", aggfunc=\"mean\"),\n",
    "        AvgFieldGoalsPercentage=pd.NamedAgg(column=\"FieldGoalsPercentage\", aggfunc=\"mean\"),\n",
    "        AvgFreeThrowHitRate=pd.NamedAgg(column=\"FreeThrowHitRate\", aggfunc=\"mean\"),\n",
    "        MedianScoreDiff=pd.NamedAgg(column=\"ScoreDiff\", aggfunc=\"median\"),\n",
    "        MinScoreDiff=pd.NamedAgg(column=\"ScoreDiff\", aggfunc=\"min\"),\n",
    "        MaxScoreDiff=pd.NamedAgg(column=\"ScoreDiff\", aggfunc=\"max\"),\n",
    "        Wins=pd.NamedAgg(column=\"Win\", aggfunc=\"sum\"),\n",
    "        Losses=pd.NamedAgg(column=\"GameResult\", aggfunc=lambda x: (x == \"L\").sum()),\n",
    "        WinPercentage=pd.NamedAgg(column=\"Win\", aggfunc=\"mean\")\n",
    "    )\n",
    "    .reset_index()\n",
    ")\n"
   ]
  },
  {
   "cell_type": "code",
   "execution_count": 8,
   "metadata": {},
   "outputs": [],
   "source": [
    "# Normalize the 'Seed' column to a numeric 'SeedNum'\n",
    "tournament_seeds[\"SeedNum\"] = (\n",
    "    tournament_seeds[\"Seed\"].str.replace(\"[ab]\", \"\", regex=True)  # Remove 'a' and 'b' using regex for efficiency\n",
    "    .str[1:]  # Strip the leading character\n",
    "    .astype(int)  # Convert the remaining string to an integer\n",
    ")\n",
    "\n",
    "# Merge the aggregated season data with the seeds data\n",
    "team_season_agg = team_season_agg.merge(\n",
    "    tournament_seeds[['Season', 'TeamID', 'League', 'SeedNum']],  # Select only necessary columns before merging\n",
    "    on=[\"Season\", \"TeamID\", \"League\"],\n",
    "    how=\"left\"\n",
    ")\n"
   ]
  },
  {
   "cell_type": "code",
   "execution_count": 9,
   "metadata": {},
   "outputs": [],
   "source": [
    "# Function to prepare tournament results data\n",
    "def prepare_tourney_results(df, win_col_prefix, lose_col_prefix, result_flag):\n",
    "    column_mapping = {\n",
    "        f\"{win_col_prefix}TeamID\": \"TeamID\",\n",
    "        f\"{lose_col_prefix}TeamID\": \"OppTeamID\",\n",
    "        f\"{win_col_prefix}Score\": \"TeamScore\",\n",
    "        f\"{lose_col_prefix}Score\": \"OppScore\"\n",
    "    }\n",
    "    return (\n",
    "        df[[\"Season\", \"League\", f\"{win_col_prefix}TeamID\", f\"{lose_col_prefix}TeamID\",\n",
    "            f\"{win_col_prefix}Score\", f\"{lose_col_prefix}Score\"]]\n",
    "        .assign(GameResult=result_flag)\n",
    "        .rename(columns=column_mapping)\n",
    "    )\n",
    "\n",
    "# Combine tournament results for winning and losing teams\n",
    "df_team_tourney_results = pd.concat([\n",
    "    prepare_tourney_results(tournament_compact_results, \"W\", \"L\", \"W\"), #rev\n",
    "    prepare_tourney_results(tournament_compact_results, \"L\", \"W\", \"L\") #rev\n",
    "]).reset_index(drop=True)\n",
    "\n",
    "# Add a 'Win' column indicating whether the team won the game\n",
    "df_team_tourney_results[\"Win\"] = (df_team_tourney_results[\"GameResult\"] == \"W\").astype(int)"
   ]
  },
  {
   "cell_type": "code",
   "execution_count": 10,
   "metadata": {},
   "outputs": [],
   "source": [
    "df_historic_tourney_features = None\n",
    "# Initial merge of team data\n",
    "df_historic_tourney_features = df_team_tourney_results.merge(\n",
    "    team_season_agg[\n",
    "        [\"Season\", \"League\", \"TeamID\", \"AvgScoreDiff\", \"AvgThreePointerMade\",\n",
    "         \"AvgThreePointerAtp\", \"AvgFreeThrowsMade\", \"AvgFreeThrowsAtp\",\n",
    "         \"AvgFieldGoalsMade\", \"AvgFieldGoalsAtp\", \"AvgThreePointerHitRate\",\n",
    "         \"AvgFieldGoalsPercentage\", \"AvgFreeThrowHitRate\", \"MedianScoreDiff\",\n",
    "         \"MinScoreDiff\", \"WinPercentage\", \"MaxScoreDiff\", \"SeedNum\"]\n",
    "    ],\n",
    "    on=[\"Season\", \"League\", \"TeamID\"],\n",
    "    how=\"left\",\n",
    ")\n",
    "\n",
    "# Secondary merge with opponent data\n",
    "df_historic_tourney_features = df_historic_tourney_features.merge(\n",
    "    team_season_agg[\n",
    "        [\"Season\", \"League\", \"TeamID\", \"AvgScoreDiff\", \"AvgThreePointerMade\",\n",
    "         \"AvgThreePointerAtp\", \"AvgFreeThrowsMade\", \"AvgFreeThrowsAtp\",\n",
    "         \"AvgFieldGoalsMade\", \"AvgFieldGoalsAtp\", \"AvgThreePointerHitRate\",\n",
    "         \"AvgFieldGoalsPercentage\", \"AvgFreeThrowHitRate\", \"MedianScoreDiff\",\n",
    "         \"MinScoreDiff\", \"WinPercentage\", \"MaxScoreDiff\", \"SeedNum\"]\n",
    "    ].rename(\n",
    "        columns={\n",
    "            \"TeamID\": \"OppTeamID\",\n",
    "            \"WinPercentage\": \"OppWinPercentage\",\n",
    "            \"MedianScoreDiff\": \"OppMedianScoreDiff\",\n",
    "            \"SeedNum\": \"OppSeedNum\",\n",
    "            \"AvgScoreDiff\": \"OppAvgScoreDiff\",\n",
    "            \"AvgThreePointerMade\": \"OppAvgThreePointerMade\",\n",
    "            \"AvgThreePointerAtp\": \"OppAvgThreePointerAtp\",\n",
    "            \"AvgFreeThrowsMade\": \"OppAvgFreeThrowsMade\",\n",
    "            \"AvgFreeThrowsAtp\": \"OppAvgFreeThrowsAtp\",\n",
    "            \"AvgFieldGoalsMade\": \"OppAvgFieldGoalsMade\",\n",
    "            \"AvgFieldGoalsAtp\": \"OppAvgFieldGoalsAtp\",\n",
    "            \"AvgThreePointerHitRate\": \"OppAvgThreePointerHitRate\",\n",
    "            \"AvgFieldGoalsPercentage\": \"OppAvgFieldGoalsPercentage\",\n",
    "            \"AvgFreeThrowHitRate\": \"OppAvgFreeThrowHitRate\",\n",
    "            \"MinScoreDiff\": \"OppMinScoreDiff\",\n",
    "            \"MaxScoreDiff\": \"OppMaxScoreDiff\",\n",
    "        }\n",
    "    ),\n",
    "    on=[\"Season\", \"League\", \"OppTeamID\"],\n",
    ")"
   ]
  },
  {
   "cell_type": "code",
   "execution_count": 11,
   "metadata": {},
   "outputs": [],
   "source": [
    "# List of metric pairs to calculate differences\n",
    "metric_pairs = [\n",
    "    (\"WinPercentage\", \"OppWinPercentage\", \"WinPctDiff\"),\n",
    "    (\"SeedNum\", \"OppSeedNum\", \"SeedNumDiff\"),\n",
    "    (\"AvgScoreDiff\", \"OppAvgScoreDiff\", \"AvgScoreDiffDiff\"),\n",
    "    (\"MedianScoreDiff\", \"OppMedianScoreDiff\", \"MedianScoreDiffDiff\"),\n",
    "    (\"AvgThreePointerMade\", \"OppAvgThreePointerMade\", \"AvgThreePointerMadeDiff\"),\n",
    "    (\"AvgThreePointerAtp\", \"OppAvgThreePointerAtp\", \"AvgThreePointerAtpDiff\"),\n",
    "    (\"AvgFreeThrowsMade\", \"OppAvgFreeThrowsMade\", \"AvgFreeThrowsMadeDiff\"),\n",
    "    (\"AvgFreeThrowsAtp\", \"OppAvgFreeThrowsAtp\", \"AvgFreeThrowsAtpDiff\"),\n",
    "    (\"AvgFieldGoalsMade\", \"OppAvgFieldGoalsMade\", \"AvgFieldGoalsMadeDiff\"),\n",
    "    (\"AvgFieldGoalsAtp\", \"OppAvgFieldGoalsAtp\", \"AvgFieldGoalsAtpDiff\"),\n",
    "    (\"AvgThreePointerHitRate\", \"OppAvgThreePointerHitRate\", \"AvgThreePointerHitRateDiff\"),\n",
    "    (\"AvgFieldGoalsPercentage\", \"OppAvgFieldGoalsPercentage\", \"AvgFieldGoalsPercentageDiff\"),\n",
    "    (\"AvgFreeThrowHitRate\", \"OppAvgFreeThrowHitRate\", \"AvgFreeThrowHitRateDiff\"),\n",
    "    (\"MinScoreDiff\", \"OppMinScoreDiff\", \"MinScoreDiffDiff\"),\n",
    "    (\"MaxScoreDiff\", \"OppMaxScoreDiff\", \"MaxScoreDiffDiff\")\n",
    "]\n",
    "\n",
    "# Calculate the differences for each metric pair\n",
    "for metric, opp_metric, diff_metric in metric_pairs:\n",
    "    df_historic_tourney_features[diff_metric] = (\n",
    "        df_historic_tourney_features[metric] - df_historic_tourney_features[opp_metric]\n",
    "    )\n"
   ]
  },
  {
   "cell_type": "markdown",
   "metadata": {},
   "source": [
    "# Baseline - Higher Seed Wins"
   ]
  },
  {
   "cell_type": "code",
   "execution_count": 12,
   "metadata": {},
   "outputs": [
    {
     "name": "stdout",
     "output_type": "stream",
     "text": [
      "Holdout season 2003 - Accuracy 0.6562 Log Loss 12.3900\n",
      "Holdout season 2004 - Accuracy 0.7344 Log Loss 9.5741\n",
      "Holdout season 2005 - Accuracy 0.6719 Log Loss 11.8268\n",
      "Holdout season 2006 - Accuracy 0.6719 Log Loss 11.8268\n",
      "Holdout season 2007 - Accuracy 0.7969 Log Loss 7.3214\n",
      "Holdout season 2008 - Accuracy 0.7656 Log Loss 8.4477\n",
      "Holdout season 2009 - Accuracy 0.7344 Log Loss 9.5741\n",
      "Holdout season 2010 - Accuracy 0.7402 Log Loss 9.3657\n",
      "Holdout season 2011 - Accuracy 0.7000 Log Loss 10.8131\n",
      "Holdout season 2012 - Accuracy 0.7923 Log Loss 7.4860\n",
      "Holdout season 2013 - Accuracy 0.7154 Log Loss 10.2586\n",
      "Holdout season 2014 - Accuracy 0.7000 Log Loss 10.8131\n",
      "Holdout season 2015 - Accuracy 0.7923 Log Loss 7.4860\n",
      "Holdout season 2016 - Accuracy 0.6846 Log Loss 11.3676\n",
      "Holdout season 2017 - Accuracy 0.7769 Log Loss 8.0405\n",
      "Holdout season 2018 - Accuracy 0.7000 Log Loss 10.8131\n",
      "Holdout season 2019 - Accuracy 0.7538 Log Loss 8.8723\n",
      "Holdout season 2021 - Accuracy 0.7519 Log Loss 8.9411\n",
      "Holdout season 2022 - Accuracy 0.7015 Log Loss 10.7593\n",
      "Holdout season 2023 - Accuracy 0.7164 Log Loss 10.2213\n",
      "Baseline accuracy 0.7278\n"
     ]
    }
   ],
   "source": [
    "df_historic_tourney_features[\"BaselinePred\"] = (\n",
    "    df_historic_tourney_features[\"SeedNum\"]\n",
    "    < df_historic_tourney_features[\"OppSeedNum\"]\n",
    ")\n",
    "\n",
    "df_historic_tourney_features.loc[\n",
    "    df_historic_tourney_features[\"SeedNum\"]\n",
    "    == df_historic_tourney_features[\"OppSeedNum\"],\n",
    "    \"BaselinePred\",\n",
    "] = (\n",
    "    df_historic_tourney_features[\"WinPercentage\"]\n",
    "    > df_historic_tourney_features[\"OppWinPercentage\"]\n",
    ")\n",
    "\n",
    "cv_scores_baseline = []\n",
    "for season in df_historic_tourney_features[\"Season\"].unique():\n",
    "    pred = df_historic_tourney_features.query(\"Season == @season\")[\n",
    "        \"BaselinePred\"\n",
    "    ].astype(\"int\")\n",
    "    y = df_historic_tourney_features.query(\"Season == @season\")[\"Win\"]\n",
    "    score = accuracy_score(y, pred)\n",
    "    score_ll = log_loss(y, pred)\n",
    "    cv_scores_baseline.append(score)\n",
    "    print(f\"Holdout season {season} - Accuracy {score:0.4f} Log Loss {score_ll:0.4f}\")\n",
    "\n",
    "print(f\"Baseline accuracy {np.mean(cv_scores_baseline):0.4f}\")"
   ]
  },
  {
   "cell_type": "markdown",
   "metadata": {},
   "source": [
    "# Predictive Models"
   ]
  },
  {
   "cell_type": "code",
   "execution_count": 13,
   "metadata": {},
   "outputs": [
    {
     "name": "stdout",
     "output_type": "stream",
     "text": [
      "Model: 1 Average CV Accuracy: 0.731703831028152\n",
      "Model: 2 Average CV Accuracy: 0.7345365364156672\n",
      "Model: 3 Average CV Accuracy: 0.7349991053565497\n",
      "Model: 4 Average CV Accuracy: 0.7352133396817756\n",
      "Model: 5 Average CV Accuracy: 0.7353430824200803\n"
     ]
    },
    {
     "ename": "KeyboardInterrupt",
     "evalue": "",
     "output_type": "error",
     "traceback": [
      "\u001b[1;31m---------------------------------------------------------------------------\u001b[0m",
      "\u001b[1;31mKeyboardInterrupt\u001b[0m                         Traceback (most recent call last)",
      "Cell \u001b[1;32mIn[13], line 57\u001b[0m\n\u001b[0;32m     54\u001b[0m holdout_season \u001b[38;5;241m=\u001b[39m seasons[season_idx]\n\u001b[0;32m     55\u001b[0m \u001b[38;5;66;03m#print(f\"Holdout Season: {holdout_season}\")\u001b[39;00m\n\u001b[0;32m     56\u001b[0m \u001b[38;5;66;03m# Train the model\u001b[39;00m\n\u001b[1;32m---> 57\u001b[0m m \u001b[38;5;241m=\u001b[39m \u001b[43mmodel\u001b[49m\u001b[38;5;241;43m.\u001b[39;49m\u001b[43mfit\u001b[49m\u001b[43m(\u001b[49m\u001b[43mX_train\u001b[49m\u001b[43m,\u001b[49m\u001b[43m \u001b[49m\u001b[43my_train\u001b[49m\u001b[43m)\u001b[49m;\n\u001b[0;32m     59\u001b[0m \u001b[38;5;66;03m# Predict on the test set\u001b[39;00m\n\u001b[0;32m     60\u001b[0m y_pred \u001b[38;5;241m=\u001b[39m model\u001b[38;5;241m.\u001b[39mpredict(X_test)\n",
      "File \u001b[1;32md:\\Programming_Language\\anaconda3\\envs\\pymc\\Lib\\site-packages\\sklearn\\base.py:1474\u001b[0m, in \u001b[0;36m_fit_context.<locals>.decorator.<locals>.wrapper\u001b[1;34m(estimator, *args, **kwargs)\u001b[0m\n\u001b[0;32m   1467\u001b[0m     estimator\u001b[38;5;241m.\u001b[39m_validate_params()\n\u001b[0;32m   1469\u001b[0m \u001b[38;5;28;01mwith\u001b[39;00m config_context(\n\u001b[0;32m   1470\u001b[0m     skip_parameter_validation\u001b[38;5;241m=\u001b[39m(\n\u001b[0;32m   1471\u001b[0m         prefer_skip_nested_validation \u001b[38;5;129;01mor\u001b[39;00m global_skip_validation\n\u001b[0;32m   1472\u001b[0m     )\n\u001b[0;32m   1473\u001b[0m ):\n\u001b[1;32m-> 1474\u001b[0m     \u001b[38;5;28;01mreturn\u001b[39;00m \u001b[43mfit_method\u001b[49m\u001b[43m(\u001b[49m\u001b[43mestimator\u001b[49m\u001b[43m,\u001b[49m\u001b[43m \u001b[49m\u001b[38;5;241;43m*\u001b[39;49m\u001b[43margs\u001b[49m\u001b[43m,\u001b[49m\u001b[43m \u001b[49m\u001b[38;5;241;43m*\u001b[39;49m\u001b[38;5;241;43m*\u001b[39;49m\u001b[43mkwargs\u001b[49m\u001b[43m)\u001b[49m\n",
      "File \u001b[1;32md:\\Programming_Language\\anaconda3\\envs\\pymc\\Lib\\site-packages\\sklearn\\svm\\_base.py:250\u001b[0m, in \u001b[0;36mBaseLibSVM.fit\u001b[1;34m(self, X, y, sample_weight)\u001b[0m\n\u001b[0;32m    247\u001b[0m     \u001b[38;5;28mprint\u001b[39m(\u001b[38;5;124m\"\u001b[39m\u001b[38;5;124m[LibSVM]\u001b[39m\u001b[38;5;124m\"\u001b[39m, end\u001b[38;5;241m=\u001b[39m\u001b[38;5;124m\"\u001b[39m\u001b[38;5;124m\"\u001b[39m)\n\u001b[0;32m    249\u001b[0m seed \u001b[38;5;241m=\u001b[39m rnd\u001b[38;5;241m.\u001b[39mrandint(np\u001b[38;5;241m.\u001b[39miinfo(\u001b[38;5;124m\"\u001b[39m\u001b[38;5;124mi\u001b[39m\u001b[38;5;124m\"\u001b[39m)\u001b[38;5;241m.\u001b[39mmax)\n\u001b[1;32m--> 250\u001b[0m \u001b[43mfit\u001b[49m\u001b[43m(\u001b[49m\u001b[43mX\u001b[49m\u001b[43m,\u001b[49m\u001b[43m \u001b[49m\u001b[43my\u001b[49m\u001b[43m,\u001b[49m\u001b[43m \u001b[49m\u001b[43msample_weight\u001b[49m\u001b[43m,\u001b[49m\u001b[43m \u001b[49m\u001b[43msolver_type\u001b[49m\u001b[43m,\u001b[49m\u001b[43m \u001b[49m\u001b[43mkernel\u001b[49m\u001b[43m,\u001b[49m\u001b[43m \u001b[49m\u001b[43mrandom_seed\u001b[49m\u001b[38;5;241;43m=\u001b[39;49m\u001b[43mseed\u001b[49m\u001b[43m)\u001b[49m\n\u001b[0;32m    251\u001b[0m \u001b[38;5;66;03m# see comment on the other call to np.iinfo in this file\u001b[39;00m\n\u001b[0;32m    253\u001b[0m \u001b[38;5;28mself\u001b[39m\u001b[38;5;241m.\u001b[39mshape_fit_ \u001b[38;5;241m=\u001b[39m X\u001b[38;5;241m.\u001b[39mshape \u001b[38;5;28;01mif\u001b[39;00m \u001b[38;5;28mhasattr\u001b[39m(X, \u001b[38;5;124m\"\u001b[39m\u001b[38;5;124mshape\u001b[39m\u001b[38;5;124m\"\u001b[39m) \u001b[38;5;28;01melse\u001b[39;00m (n_samples,)\n",
      "File \u001b[1;32md:\\Programming_Language\\anaconda3\\envs\\pymc\\Lib\\site-packages\\sklearn\\svm\\_base.py:329\u001b[0m, in \u001b[0;36mBaseLibSVM._dense_fit\u001b[1;34m(self, X, y, sample_weight, solver_type, kernel, random_seed)\u001b[0m\n\u001b[0;32m    315\u001b[0m libsvm\u001b[38;5;241m.\u001b[39mset_verbosity_wrap(\u001b[38;5;28mself\u001b[39m\u001b[38;5;241m.\u001b[39mverbose)\n\u001b[0;32m    317\u001b[0m \u001b[38;5;66;03m# we don't pass **self.get_params() to allow subclasses to\u001b[39;00m\n\u001b[0;32m    318\u001b[0m \u001b[38;5;66;03m# add other parameters to __init__\u001b[39;00m\n\u001b[0;32m    319\u001b[0m (\n\u001b[0;32m    320\u001b[0m     \u001b[38;5;28mself\u001b[39m\u001b[38;5;241m.\u001b[39msupport_,\n\u001b[0;32m    321\u001b[0m     \u001b[38;5;28mself\u001b[39m\u001b[38;5;241m.\u001b[39msupport_vectors_,\n\u001b[0;32m    322\u001b[0m     \u001b[38;5;28mself\u001b[39m\u001b[38;5;241m.\u001b[39m_n_support,\n\u001b[0;32m    323\u001b[0m     \u001b[38;5;28mself\u001b[39m\u001b[38;5;241m.\u001b[39mdual_coef_,\n\u001b[0;32m    324\u001b[0m     \u001b[38;5;28mself\u001b[39m\u001b[38;5;241m.\u001b[39mintercept_,\n\u001b[0;32m    325\u001b[0m     \u001b[38;5;28mself\u001b[39m\u001b[38;5;241m.\u001b[39m_probA,\n\u001b[0;32m    326\u001b[0m     \u001b[38;5;28mself\u001b[39m\u001b[38;5;241m.\u001b[39m_probB,\n\u001b[0;32m    327\u001b[0m     \u001b[38;5;28mself\u001b[39m\u001b[38;5;241m.\u001b[39mfit_status_,\n\u001b[0;32m    328\u001b[0m     \u001b[38;5;28mself\u001b[39m\u001b[38;5;241m.\u001b[39m_num_iter,\n\u001b[1;32m--> 329\u001b[0m ) \u001b[38;5;241m=\u001b[39m \u001b[43mlibsvm\u001b[49m\u001b[38;5;241;43m.\u001b[39;49m\u001b[43mfit\u001b[49m\u001b[43m(\u001b[49m\n\u001b[0;32m    330\u001b[0m \u001b[43m    \u001b[49m\u001b[43mX\u001b[49m\u001b[43m,\u001b[49m\n\u001b[0;32m    331\u001b[0m \u001b[43m    \u001b[49m\u001b[43my\u001b[49m\u001b[43m,\u001b[49m\n\u001b[0;32m    332\u001b[0m \u001b[43m    \u001b[49m\u001b[43msvm_type\u001b[49m\u001b[38;5;241;43m=\u001b[39;49m\u001b[43msolver_type\u001b[49m\u001b[43m,\u001b[49m\n\u001b[0;32m    333\u001b[0m \u001b[43m    \u001b[49m\u001b[43msample_weight\u001b[49m\u001b[38;5;241;43m=\u001b[39;49m\u001b[43msample_weight\u001b[49m\u001b[43m,\u001b[49m\n\u001b[0;32m    334\u001b[0m \u001b[43m    \u001b[49m\u001b[43mclass_weight\u001b[49m\u001b[38;5;241;43m=\u001b[39;49m\u001b[38;5;28;43mgetattr\u001b[39;49m\u001b[43m(\u001b[49m\u001b[38;5;28;43mself\u001b[39;49m\u001b[43m,\u001b[49m\u001b[43m \u001b[49m\u001b[38;5;124;43m\"\u001b[39;49m\u001b[38;5;124;43mclass_weight_\u001b[39;49m\u001b[38;5;124;43m\"\u001b[39;49m\u001b[43m,\u001b[49m\u001b[43m \u001b[49m\u001b[43mnp\u001b[49m\u001b[38;5;241;43m.\u001b[39;49m\u001b[43mempty\u001b[49m\u001b[43m(\u001b[49m\u001b[38;5;241;43m0\u001b[39;49m\u001b[43m)\u001b[49m\u001b[43m)\u001b[49m\u001b[43m,\u001b[49m\n\u001b[0;32m    335\u001b[0m \u001b[43m    \u001b[49m\u001b[43mkernel\u001b[49m\u001b[38;5;241;43m=\u001b[39;49m\u001b[43mkernel\u001b[49m\u001b[43m,\u001b[49m\n\u001b[0;32m    336\u001b[0m \u001b[43m    \u001b[49m\u001b[43mC\u001b[49m\u001b[38;5;241;43m=\u001b[39;49m\u001b[38;5;28;43mself\u001b[39;49m\u001b[38;5;241;43m.\u001b[39;49m\u001b[43mC\u001b[49m\u001b[43m,\u001b[49m\n\u001b[0;32m    337\u001b[0m \u001b[43m    \u001b[49m\u001b[43mnu\u001b[49m\u001b[38;5;241;43m=\u001b[39;49m\u001b[38;5;28;43mself\u001b[39;49m\u001b[38;5;241;43m.\u001b[39;49m\u001b[43mnu\u001b[49m\u001b[43m,\u001b[49m\n\u001b[0;32m    338\u001b[0m \u001b[43m    \u001b[49m\u001b[43mprobability\u001b[49m\u001b[38;5;241;43m=\u001b[39;49m\u001b[38;5;28;43mself\u001b[39;49m\u001b[38;5;241;43m.\u001b[39;49m\u001b[43mprobability\u001b[49m\u001b[43m,\u001b[49m\n\u001b[0;32m    339\u001b[0m \u001b[43m    \u001b[49m\u001b[43mdegree\u001b[49m\u001b[38;5;241;43m=\u001b[39;49m\u001b[38;5;28;43mself\u001b[39;49m\u001b[38;5;241;43m.\u001b[39;49m\u001b[43mdegree\u001b[49m\u001b[43m,\u001b[49m\n\u001b[0;32m    340\u001b[0m \u001b[43m    \u001b[49m\u001b[43mshrinking\u001b[49m\u001b[38;5;241;43m=\u001b[39;49m\u001b[38;5;28;43mself\u001b[39;49m\u001b[38;5;241;43m.\u001b[39;49m\u001b[43mshrinking\u001b[49m\u001b[43m,\u001b[49m\n\u001b[0;32m    341\u001b[0m \u001b[43m    \u001b[49m\u001b[43mtol\u001b[49m\u001b[38;5;241;43m=\u001b[39;49m\u001b[38;5;28;43mself\u001b[39;49m\u001b[38;5;241;43m.\u001b[39;49m\u001b[43mtol\u001b[49m\u001b[43m,\u001b[49m\n\u001b[0;32m    342\u001b[0m \u001b[43m    \u001b[49m\u001b[43mcache_size\u001b[49m\u001b[38;5;241;43m=\u001b[39;49m\u001b[38;5;28;43mself\u001b[39;49m\u001b[38;5;241;43m.\u001b[39;49m\u001b[43mcache_size\u001b[49m\u001b[43m,\u001b[49m\n\u001b[0;32m    343\u001b[0m \u001b[43m    \u001b[49m\u001b[43mcoef0\u001b[49m\u001b[38;5;241;43m=\u001b[39;49m\u001b[38;5;28;43mself\u001b[39;49m\u001b[38;5;241;43m.\u001b[39;49m\u001b[43mcoef0\u001b[49m\u001b[43m,\u001b[49m\n\u001b[0;32m    344\u001b[0m \u001b[43m    \u001b[49m\u001b[43mgamma\u001b[49m\u001b[38;5;241;43m=\u001b[39;49m\u001b[38;5;28;43mself\u001b[39;49m\u001b[38;5;241;43m.\u001b[39;49m\u001b[43m_gamma\u001b[49m\u001b[43m,\u001b[49m\n\u001b[0;32m    345\u001b[0m \u001b[43m    \u001b[49m\u001b[43mepsilon\u001b[49m\u001b[38;5;241;43m=\u001b[39;49m\u001b[38;5;28;43mself\u001b[39;49m\u001b[38;5;241;43m.\u001b[39;49m\u001b[43mepsilon\u001b[49m\u001b[43m,\u001b[49m\n\u001b[0;32m    346\u001b[0m \u001b[43m    \u001b[49m\u001b[43mmax_iter\u001b[49m\u001b[38;5;241;43m=\u001b[39;49m\u001b[38;5;28;43mself\u001b[39;49m\u001b[38;5;241;43m.\u001b[39;49m\u001b[43mmax_iter\u001b[49m\u001b[43m,\u001b[49m\n\u001b[0;32m    347\u001b[0m \u001b[43m    \u001b[49m\u001b[43mrandom_seed\u001b[49m\u001b[38;5;241;43m=\u001b[39;49m\u001b[43mrandom_seed\u001b[49m\u001b[43m,\u001b[49m\n\u001b[0;32m    348\u001b[0m \u001b[43m\u001b[49m\u001b[43m)\u001b[49m\n\u001b[0;32m    350\u001b[0m \u001b[38;5;28mself\u001b[39m\u001b[38;5;241m.\u001b[39m_warn_from_fit_status()\n",
      "\u001b[1;31mKeyboardInterrupt\u001b[0m: "
     ]
    }
   ],
   "source": [
    "features = [\n",
    "    \"WinPctDiff\",\n",
    "    \"SeedNumDiff\",\n",
    "    \"AvgScoreDiffDiff\",\n",
    "    \"AvgThreePointerHitRateDiff\",\n",
    "    \"AvgFieldGoalsPercentageDiff\",\n",
    "    \"AvgFreeThrowHitRateDiff\",\n",
    "    #   \"WinPercentage\",\n",
    "    #    \"MedianScoreDiff\",\n",
    "    #   \"SeedNum\",\n",
    "    #   \"OppWinPercentage\",\n",
    "    #   \"OppMedianScoreDiff\",\n",
    "    #   \"OppSeedNum\",\n",
    "    #   \"AvgThreePointerMadeDiff\",\n",
    "    #   \"AvgThreePointerAtpDiff\",\n",
    "    #   \"AvgFreeThrowsMadeDiff\",\n",
    "    #   \"AvgFreeThrowsAtpDiff\",\n",
    "    #   \"AvgFieldGoalsMadeDiff\",\n",
    "    #   \"AvgFieldGoalsAtpDiff\",\n",
    "]\n",
    "target = \"Win\"\n",
    "\n",
    "X = df_historic_tourney_features[features]\n",
    "y = df_historic_tourney_features[target]\n",
    "groups = df_historic_tourney_features[\"Season\"]\n",
    "seasons = df_historic_tourney_features[\"Season\"].unique()\n",
    "\n",
    "# Setup cross-validation\n",
    "gkf = GroupKFold(n_splits=df_historic_tourney_features[\"Season\"].nunique())\n",
    "\n",
    "cv_results = []\n",
    "models = [\n",
    "    LinearRegression(),\n",
    "    Lasso(alpha=0.1),\n",
    "    RidgeCV(alphas=(0.1, 1.0, 10.0)),\n",
    "    LogisticRegression(),\n",
    "    svm.LinearSVC(loss='hinge', penalty='l2', dual='auto', max_iter=int(1E9)),\n",
    "    svm.SVC(kernel='poly'),\n",
    "    svm.SVC(kernel='rbf'),\n",
    "    xgb.XGBRegressor(eval_metric=\"logloss\", n_estimators=1000, learning_rate=0.001,),\n",
    "    RandomForestRegressor(n_estimators=1000),\n",
    "    ]\n",
    "\n",
    "\n",
    "model_idx = 1\n",
    "for model in models:\n",
    "\n",
    "    season_idx = 0\n",
    "    for train_index, test_index in gkf.split(X, y, groups):\n",
    "        X_train, X_test = X.iloc[train_index], X.iloc[test_index]\n",
    "        y_train, y_test = y.iloc[train_index], y.iloc[test_index]\n",
    "\n",
    "        # Prepare the model\n",
    "        holdout_season = seasons[season_idx]\n",
    "        #print(f\"Holdout Season: {holdout_season}\")\n",
    "        # Train the model\n",
    "        m = model.fit(X_train, y_train);\n",
    "\n",
    "        # Predict on the test set\n",
    "        y_pred = model.predict(X_test)\n",
    "\n",
    "        y_pred = y_pred > 0.5\n",
    "        # Evaluate the model\n",
    "        accuracy = accuracy_score(y_test, y_pred)\n",
    "        cv_results.append(accuracy)\n",
    "        season_idx += 1\n",
    "        #print(f\"Season {holdout_season}: {accuracy} {score_ll}\")\n",
    "            \n",
    "    # Print the average accuracy across all folds\n",
    "    print(f\"Model: {model_idx} Average CV Accuracy: {np.mean(cv_results)}\")\n",
    "    model_idx += 1"
   ]
  },
  {
   "cell_type": "markdown",
   "metadata": {},
   "source": [
    "# Bayesian Inference"
   ]
  },
  {
   "cell_type": "code",
   "execution_count": 21,
   "metadata": {},
   "outputs": [],
   "source": [
    "import pymc as pm\n",
    "import arviz as az\n",
    "\n",
    "# Ignore all message\n",
    "import logging\n",
    "logger = logging.getLogger(\"pymc\")\n",
    "logger.setLevel(logging.ERROR)"
   ]
  },
  {
   "cell_type": "code",
   "execution_count": 22,
   "metadata": {},
   "outputs": [
    {
     "data": {
      "image/png": "[encoded data removed]",
      "text/plain": [
       "<Figure size 1200x1000 with 6 Axes>"
      ]
     },
     "metadata": {},
     "output_type": "display_data"
    }
   ],
   "source": [
    "import matplotlib.pyplot as plt\n",
    "import seaborn as sns\n",
    "\n",
    "# Plot the distribution of predictors\n",
    "plt.figure(figsize=(12, 10))\n",
    "for i, feature in enumerate(features, 1):\n",
    "    plt.subplot(3, 2, i)  # Adjust the grid size accordingly if you have more or fewer predictors\n",
    "    sns.histplot(df_historic_tourney_features[feature], kde=True, color='blue')\n",
    "    plt.title(f'Distribution of {feature}')\n",
    "    plt.xlabel(feature)\n",
    "    plt.ylabel('Frequency')\n",
    "\n",
    "# Adjust layout to prevent overlap\n",
    "plt.tight_layout()\n",
    "plt.show()"
   ]
  },
  {
   "cell_type": "code",
   "execution_count": 32,
   "metadata": {},
   "outputs": [
    {
     "data": {
      "application/vnd.jupyter.widget-view+json": {
       "model_id": "836e712d7edd4404baebfdeef69bb0ee",
       "version_major": 2,
       "version_minor": 0
      },
      "text/plain": [
       "Output()"
      ]
     },
     "metadata": {},
     "output_type": "display_data"
    },
    {
     "data": {
      "text/html": [
       "<pre style=\"white-space:pre;overflow-x:auto;line-height:normal;font-family:Menlo,'DejaVu Sans Mono',consolas,'Courier New',monospace\"></pre>\n"
      ],
      "text/plain": []
     },
     "metadata": {},
     "output_type": "display_data"
    },
    {
     "data": {
      "text/html": [
       "<pre style=\"white-space:pre;overflow-x:auto;line-height:normal;font-family:Menlo,'DejaVu Sans Mono',consolas,'Courier New',monospace\">\n",
       "</pre>\n"
      ],
      "text/plain": [
       "\n"
      ]
     },
     "metadata": {},
     "output_type": "display_data"
    },
    {
     "data": {
      "application/vnd.jupyter.widget-view+json": {
       "model_id": "296e2a6613fa404a8468185e0549b7ed",
       "version_major": 2,
       "version_minor": 0
      },
      "text/plain": [
       "Output()"
      ]
     },
     "metadata": {},
     "output_type": "display_data"
    },
    {
     "data": {
      "text/html": [
       "<pre style=\"white-space:pre;overflow-x:auto;line-height:normal;font-family:Menlo,'DejaVu Sans Mono',consolas,'Courier New',monospace\"></pre>\n"
      ],
      "text/plain": []
     },
     "metadata": {},
     "output_type": "display_data"
    },
    {
     "data": {
      "text/html": [
       "<pre style=\"white-space:pre;overflow-x:auto;line-height:normal;font-family:Menlo,'DejaVu Sans Mono',consolas,'Courier New',monospace\">\n",
       "</pre>\n"
      ],
      "text/plain": [
       "\n"
      ]
     },
     "metadata": {},
     "output_type": "display_data"
    },
    {
     "data": {
      "application/vnd.jupyter.widget-view+json": {
       "model_id": "db3d38509b3c4a6299a12b9f021fac25",
       "version_major": 2,
       "version_minor": 0
      },
      "text/plain": [
       "Output()"
      ]
     },
     "metadata": {},
     "output_type": "display_data"
    },
    {
     "data": {
      "text/html": [
       "<pre style=\"white-space:pre;overflow-x:auto;line-height:normal;font-family:Menlo,'DejaVu Sans Mono',consolas,'Courier New',monospace\"></pre>\n"
      ],
      "text/plain": []
     },
     "metadata": {},
     "output_type": "display_data"
    },
    {
     "data": {
      "text/html": [
       "<pre style=\"white-space:pre;overflow-x:auto;line-height:normal;font-family:Menlo,'DejaVu Sans Mono',consolas,'Courier New',monospace\">\n",
       "</pre>\n"
      ],
      "text/plain": [
       "\n"
      ]
     },
     "metadata": {},
     "output_type": "display_data"
    },
    {
     "data": {
      "application/vnd.jupyter.widget-view+json": {
       "model_id": "67573b1f97c84b72be9e0976decbc953",
       "version_major": 2,
       "version_minor": 0
      },
      "text/plain": [
       "Output()"
      ]
     },
     "metadata": {},
     "output_type": "display_data"
    },
    {
     "data": {
      "text/html": [
       "<pre style=\"white-space:pre;overflow-x:auto;line-height:normal;font-family:Menlo,'DejaVu Sans Mono',consolas,'Courier New',monospace\"></pre>\n"
      ],
      "text/plain": []
     },
     "metadata": {},
     "output_type": "display_data"
    },
    {
     "data": {
      "text/html": [
       "<pre style=\"white-space:pre;overflow-x:auto;line-height:normal;font-family:Menlo,'DejaVu Sans Mono',consolas,'Courier New',monospace\">\n",
       "</pre>\n"
      ],
      "text/plain": [
       "\n"
      ]
     },
     "metadata": {},
     "output_type": "display_data"
    },
    {
     "data": {
      "application/vnd.jupyter.widget-view+json": {
       "model_id": "d97b66a36f4c4d5eb8038e15601679b8",
       "version_major": 2,
       "version_minor": 0
      },
      "text/plain": [
       "Output()"
      ]
     },
     "metadata": {},
     "output_type": "display_data"
    },
    {
     "data": {
      "text/html": [
       "<pre style=\"white-space:pre;overflow-x:auto;line-height:normal;font-family:Menlo,'DejaVu Sans Mono',consolas,'Courier New',monospace\"></pre>\n"
      ],
      "text/plain": []
     },
     "metadata": {},
     "output_type": "display_data"
    },
    {
     "data": {
      "text/html": [
       "<pre style=\"white-space:pre;overflow-x:auto;line-height:normal;font-family:Menlo,'DejaVu Sans Mono',consolas,'Courier New',monospace\">\n",
       "</pre>\n"
      ],
      "text/plain": [
       "\n"
      ]
     },
     "metadata": {},
     "output_type": "display_data"
    },
    {
     "data": {
      "application/vnd.jupyter.widget-view+json": {
       "model_id": "2adbc4c8bb6a4f23a212f0de5a12d773",
       "version_major": 2,
       "version_minor": 0
      },
      "text/plain": [
       "Output()"
      ]
     },
     "metadata": {},
     "output_type": "display_data"
    },
    {
     "data": {
      "text/html": [
       "<pre style=\"white-space:pre;overflow-x:auto;line-height:normal;font-family:Menlo,'DejaVu Sans Mono',consolas,'Courier New',monospace\"></pre>\n"
      ],
      "text/plain": []
     },
     "metadata": {},
     "output_type": "display_data"
    },
    {
     "data": {
      "text/html": [
       "<pre style=\"white-space:pre;overflow-x:auto;line-height:normal;font-family:Menlo,'DejaVu Sans Mono',consolas,'Courier New',monospace\">\n",
       "</pre>\n"
      ],
      "text/plain": [
       "\n"
      ]
     },
     "metadata": {},
     "output_type": "display_data"
    },
    {
     "data": {
      "application/vnd.jupyter.widget-view+json": {
       "model_id": "e57a25892d1246128489c07d62715efc",
       "version_major": 2,
       "version_minor": 0
      },
      "text/plain": [
       "Output()"
      ]
     },
     "metadata": {},
     "output_type": "display_data"
    },
    {
     "data": {
      "text/html": [
       "<pre style=\"white-space:pre;overflow-x:auto;line-height:normal;font-family:Menlo,'DejaVu Sans Mono',consolas,'Courier New',monospace\"></pre>\n"
      ],
      "text/plain": []
     },
     "metadata": {},
     "output_type": "display_data"
    },
    {
     "data": {
      "text/html": [
       "<pre style=\"white-space:pre;overflow-x:auto;line-height:normal;font-family:Menlo,'DejaVu Sans Mono',consolas,'Courier New',monospace\">\n",
       "</pre>\n"
      ],
      "text/plain": [
       "\n"
      ]
     },
     "metadata": {},
     "output_type": "display_data"
    },
    {
     "data": {
      "application/vnd.jupyter.widget-view+json": {
       "model_id": "45e48be0c93b44ca857cc79ed7a5526e",
       "version_major": 2,
       "version_minor": 0
      },
      "text/plain": [
       "Output()"
      ]
     },
     "metadata": {},
     "output_type": "display_data"
    },
    {
     "data": {
      "text/html": [
       "<pre style=\"white-space:pre;overflow-x:auto;line-height:normal;font-family:Menlo,'DejaVu Sans Mono',consolas,'Courier New',monospace\"></pre>\n"
      ],
      "text/plain": []
     },
     "metadata": {},
     "output_type": "display_data"
    },
    {
     "data": {
      "text/html": [
       "<pre style=\"white-space:pre;overflow-x:auto;line-height:normal;font-family:Menlo,'DejaVu Sans Mono',consolas,'Courier New',monospace\">\n",
       "</pre>\n"
      ],
      "text/plain": [
       "\n"
      ]
     },
     "metadata": {},
     "output_type": "display_data"
    },
    {
     "data": {
      "application/vnd.jupyter.widget-view+json": {
       "model_id": "031572c3c07449778bbd14c9e900ccbb",
       "version_major": 2,
       "version_minor": 0
      },
      "text/plain": [
       "Output()"
      ]
     },
     "metadata": {},
     "output_type": "display_data"
    },
    {
     "data": {
      "text/html": [
       "<pre style=\"white-space:pre;overflow-x:auto;line-height:normal;font-family:Menlo,'DejaVu Sans Mono',consolas,'Courier New',monospace\"></pre>\n"
      ],
      "text/plain": []
     },
     "metadata": {},
     "output_type": "display_data"
    },
    {
     "data": {
      "text/html": [
       "<pre style=\"white-space:pre;overflow-x:auto;line-height:normal;font-family:Menlo,'DejaVu Sans Mono',consolas,'Courier New',monospace\">\n",
       "</pre>\n"
      ],
      "text/plain": [
       "\n"
      ]
     },
     "metadata": {},
     "output_type": "display_data"
    },
    {
     "data": {
      "application/vnd.jupyter.widget-view+json": {
       "model_id": "b4e34895051f4771ae1ead60c756aa36",
       "version_major": 2,
       "version_minor": 0
      },
      "text/plain": [
       "Output()"
      ]
     },
     "metadata": {},
     "output_type": "display_data"
    },
    {
     "data": {
      "text/html": [
       "<pre style=\"white-space:pre;overflow-x:auto;line-height:normal;font-family:Menlo,'DejaVu Sans Mono',consolas,'Courier New',monospace\"></pre>\n"
      ],
      "text/plain": []
     },
     "metadata": {},
     "output_type": "display_data"
    },
    {
     "data": {
      "text/html": [
       "<pre style=\"white-space:pre;overflow-x:auto;line-height:normal;font-family:Menlo,'DejaVu Sans Mono',consolas,'Courier New',monospace\">\n",
       "</pre>\n"
      ],
      "text/plain": [
       "\n"
      ]
     },
     "metadata": {},
     "output_type": "display_data"
    },
    {
     "data": {
      "application/vnd.jupyter.widget-view+json": {
       "model_id": "7a803a8337bc40f5aca278dab9fe9d44",
       "version_major": 2,
       "version_minor": 0
      },
      "text/plain": [
       "Output()"
      ]
     },
     "metadata": {},
     "output_type": "display_data"
    },
    {
     "data": {
      "text/html": [
       "<pre style=\"white-space:pre;overflow-x:auto;line-height:normal;font-family:Menlo,'DejaVu Sans Mono',consolas,'Courier New',monospace\"></pre>\n"
      ],
      "text/plain": []
     },
     "metadata": {},
     "output_type": "display_data"
    },
    {
     "data": {
      "text/html": [
       "<pre style=\"white-space:pre;overflow-x:auto;line-height:normal;font-family:Menlo,'DejaVu Sans Mono',consolas,'Courier New',monospace\">\n",
       "</pre>\n"
      ],
      "text/plain": [
       "\n"
      ]
     },
     "metadata": {},
     "output_type": "display_data"
    },
    {
     "data": {
      "application/vnd.jupyter.widget-view+json": {
       "model_id": "e7ca5f3e38fd4e05b08b5067a4616f44",
       "version_major": 2,
       "version_minor": 0
      },
      "text/plain": [
       "Output()"
      ]
     },
     "metadata": {},
     "output_type": "display_data"
    },
    {
     "data": {
      "text/html": [
       "<pre style=\"white-space:pre;overflow-x:auto;line-height:normal;font-family:Menlo,'DejaVu Sans Mono',consolas,'Courier New',monospace\"></pre>\n"
      ],
      "text/plain": []
     },
     "metadata": {},
     "output_type": "display_data"
    },
    {
     "data": {
      "text/html": [
       "<pre style=\"white-space:pre;overflow-x:auto;line-height:normal;font-family:Menlo,'DejaVu Sans Mono',consolas,'Courier New',monospace\">\n",
       "</pre>\n"
      ],
      "text/plain": [
       "\n"
      ]
     },
     "metadata": {},
     "output_type": "display_data"
    },
    {
     "data": {
      "application/vnd.jupyter.widget-view+json": {
       "model_id": "b956053a2a0e4ca092e682b07dd1bc8d",
       "version_major": 2,
       "version_minor": 0
      },
      "text/plain": [
       "Output()"
      ]
     },
     "metadata": {},
     "output_type": "display_data"
    },
    {
     "data": {
      "text/html": [
       "<pre style=\"white-space:pre;overflow-x:auto;line-height:normal;font-family:Menlo,'DejaVu Sans Mono',consolas,'Courier New',monospace\"></pre>\n"
      ],
      "text/plain": []
     },
     "metadata": {},
     "output_type": "display_data"
    },
    {
     "data": {
      "text/html": [
       "<pre style=\"white-space:pre;overflow-x:auto;line-height:normal;font-family:Menlo,'DejaVu Sans Mono',consolas,'Courier New',monospace\">\n",
       "</pre>\n"
      ],
      "text/plain": [
       "\n"
      ]
     },
     "metadata": {},
     "output_type": "display_data"
    },
    {
     "data": {
      "application/vnd.jupyter.widget-view+json": {
       "model_id": "722f511e18ef449faa14646a10baba30",
       "version_major": 2,
       "version_minor": 0
      },
      "text/plain": [
       "Output()"
      ]
     },
     "metadata": {},
     "output_type": "display_data"
    },
    {
     "data": {
      "text/html": [
       "<pre style=\"white-space:pre;overflow-x:auto;line-height:normal;font-family:Menlo,'DejaVu Sans Mono',consolas,'Courier New',monospace\"></pre>\n"
      ],
      "text/plain": []
     },
     "metadata": {},
     "output_type": "display_data"
    },
    {
     "data": {
      "text/html": [
       "<pre style=\"white-space:pre;overflow-x:auto;line-height:normal;font-family:Menlo,'DejaVu Sans Mono',consolas,'Courier New',monospace\">\n",
       "</pre>\n"
      ],
      "text/plain": [
       "\n"
      ]
     },
     "metadata": {},
     "output_type": "display_data"
    },
    {
     "data": {
      "application/vnd.jupyter.widget-view+json": {
       "model_id": "a465820459a1432584368f4c8a89c2f8",
       "version_major": 2,
       "version_minor": 0
      },
      "text/plain": [
       "Output()"
      ]
     },
     "metadata": {},
     "output_type": "display_data"
    },
    {
     "data": {
      "text/html": [
       "<pre style=\"white-space:pre;overflow-x:auto;line-height:normal;font-family:Menlo,'DejaVu Sans Mono',consolas,'Courier New',monospace\"></pre>\n"
      ],
      "text/plain": []
     },
     "metadata": {},
     "output_type": "display_data"
    },
    {
     "data": {
      "text/html": [
       "<pre style=\"white-space:pre;overflow-x:auto;line-height:normal;font-family:Menlo,'DejaVu Sans Mono',consolas,'Courier New',monospace\">\n",
       "</pre>\n"
      ],
      "text/plain": [
       "\n"
      ]
     },
     "metadata": {},
     "output_type": "display_data"
    },
    {
     "data": {
      "application/vnd.jupyter.widget-view+json": {
       "model_id": "359c708c888c4c35a986afa1096dcf9b",
       "version_major": 2,
       "version_minor": 0
      },
      "text/plain": [
       "Output()"
      ]
     },
     "metadata": {},
     "output_type": "display_data"
    },
    {
     "data": {
      "text/html": [
       "<pre style=\"white-space:pre;overflow-x:auto;line-height:normal;font-family:Menlo,'DejaVu Sans Mono',consolas,'Courier New',monospace\"></pre>\n"
      ],
      "text/plain": []
     },
     "metadata": {},
     "output_type": "display_data"
    },
    {
     "data": {
      "text/html": [
       "<pre style=\"white-space:pre;overflow-x:auto;line-height:normal;font-family:Menlo,'DejaVu Sans Mono',consolas,'Courier New',monospace\">\n",
       "</pre>\n"
      ],
      "text/plain": [
       "\n"
      ]
     },
     "metadata": {},
     "output_type": "display_data"
    },
    {
     "data": {
      "application/vnd.jupyter.widget-view+json": {
       "model_id": "b8654c982a074b4d83b3874670566b0c",
       "version_major": 2,
       "version_minor": 0
      },
      "text/plain": [
       "Output()"
      ]
     },
     "metadata": {},
     "output_type": "display_data"
    },
    {
     "data": {
      "text/html": [
       "<pre style=\"white-space:pre;overflow-x:auto;line-height:normal;font-family:Menlo,'DejaVu Sans Mono',consolas,'Courier New',monospace\"></pre>\n"
      ],
      "text/plain": []
     },
     "metadata": {},
     "output_type": "display_data"
    },
    {
     "data": {
      "text/html": [
       "<pre style=\"white-space:pre;overflow-x:auto;line-height:normal;font-family:Menlo,'DejaVu Sans Mono',consolas,'Courier New',monospace\">\n",
       "</pre>\n"
      ],
      "text/plain": [
       "\n"
      ]
     },
     "metadata": {},
     "output_type": "display_data"
    },
    {
     "data": {
      "application/vnd.jupyter.widget-view+json": {
       "model_id": "4183eb5739b641649e60139bca7235db",
       "version_major": 2,
       "version_minor": 0
      },
      "text/plain": [
       "Output()"
      ]
     },
     "metadata": {},
     "output_type": "display_data"
    },
    {
     "data": {
      "text/html": [
       "<pre style=\"white-space:pre;overflow-x:auto;line-height:normal;font-family:Menlo,'DejaVu Sans Mono',consolas,'Courier New',monospace\"></pre>\n"
      ],
      "text/plain": []
     },
     "metadata": {},
     "output_type": "display_data"
    },
    {
     "data": {
      "text/html": [
       "<pre style=\"white-space:pre;overflow-x:auto;line-height:normal;font-family:Menlo,'DejaVu Sans Mono',consolas,'Courier New',monospace\">\n",
       "</pre>\n"
      ],
      "text/plain": [
       "\n"
      ]
     },
     "metadata": {},
     "output_type": "display_data"
    },
    {
     "data": {
      "application/vnd.jupyter.widget-view+json": {
       "model_id": "4aefc2dd6dd74f1da5ecbd78373b9661",
       "version_major": 2,
       "version_minor": 0
      },
      "text/plain": [
       "Output()"
      ]
     },
     "metadata": {},
     "output_type": "display_data"
    },
    {
     "data": {
      "text/html": [
       "<pre style=\"white-space:pre;overflow-x:auto;line-height:normal;font-family:Menlo,'DejaVu Sans Mono',consolas,'Courier New',monospace\"></pre>\n"
      ],
      "text/plain": []
     },
     "metadata": {},
     "output_type": "display_data"
    },
    {
     "data": {
      "text/html": [
       "<pre style=\"white-space:pre;overflow-x:auto;line-height:normal;font-family:Menlo,'DejaVu Sans Mono',consolas,'Courier New',monospace\">\n",
       "</pre>\n"
      ],
      "text/plain": [
       "\n"
      ]
     },
     "metadata": {},
     "output_type": "display_data"
    },
    {
     "data": {
      "application/vnd.jupyter.widget-view+json": {
       "model_id": "186c3d519c884b928dfd8341419d6db2",
       "version_major": 2,
       "version_minor": 0
      },
      "text/plain": [
       "Output()"
      ]
     },
     "metadata": {},
     "output_type": "display_data"
    },
    {
     "data": {
      "text/html": [
       "<pre style=\"white-space:pre;overflow-x:auto;line-height:normal;font-family:Menlo,'DejaVu Sans Mono',consolas,'Courier New',monospace\"></pre>\n"
      ],
      "text/plain": []
     },
     "metadata": {},
     "output_type": "display_data"
    },
    {
     "data": {
      "text/html": [
       "<pre style=\"white-space:pre;overflow-x:auto;line-height:normal;font-family:Menlo,'DejaVu Sans Mono',consolas,'Courier New',monospace\">\n",
       "</pre>\n"
      ],
      "text/plain": [
       "\n"
      ]
     },
     "metadata": {},
     "output_type": "display_data"
    },
    {
     "data": {
      "application/vnd.jupyter.widget-view+json": {
       "model_id": "ea33165c154a459f8cdb65e77d72778b",
       "version_major": 2,
       "version_minor": 0
      },
      "text/plain": [
       "Output()"
      ]
     },
     "metadata": {},
     "output_type": "display_data"
    },
    {
     "data": {
      "text/html": [
       "<pre style=\"white-space:pre;overflow-x:auto;line-height:normal;font-family:Menlo,'DejaVu Sans Mono',consolas,'Courier New',monospace\"></pre>\n"
      ],
      "text/plain": []
     },
     "metadata": {},
     "output_type": "display_data"
    },
    {
     "data": {
      "text/html": [
       "<pre style=\"white-space:pre;overflow-x:auto;line-height:normal;font-family:Menlo,'DejaVu Sans Mono',consolas,'Courier New',monospace\">\n",
       "</pre>\n"
      ],
      "text/plain": [
       "\n"
      ]
     },
     "metadata": {},
     "output_type": "display_data"
    },
    {
     "data": {
      "application/vnd.jupyter.widget-view+json": {
       "model_id": "f5ec4216baff419fa5171e643ebe6994",
       "version_major": 2,
       "version_minor": 0
      },
      "text/plain": [
       "Output()"
      ]
     },
     "metadata": {},
     "output_type": "display_data"
    },
    {
     "data": {
      "text/html": [
       "<pre style=\"white-space:pre;overflow-x:auto;line-height:normal;font-family:Menlo,'DejaVu Sans Mono',consolas,'Courier New',monospace\"></pre>\n"
      ],
      "text/plain": []
     },
     "metadata": {},
     "output_type": "display_data"
    },
    {
     "data": {
      "text/html": [
       "<pre style=\"white-space:pre;overflow-x:auto;line-height:normal;font-family:Menlo,'DejaVu Sans Mono',consolas,'Courier New',monospace\">\n",
       "</pre>\n"
      ],
      "text/plain": [
       "\n"
      ]
     },
     "metadata": {},
     "output_type": "display_data"
    },
    {
     "data": {
      "application/vnd.jupyter.widget-view+json": {
       "model_id": "af37cd11ab0843afb9386ab6165a5c9c",
       "version_major": 2,
       "version_minor": 0
      },
      "text/plain": [
       "Output()"
      ]
     },
     "metadata": {},
     "output_type": "display_data"
    },
    {
     "data": {
      "text/html": [
       "<pre style=\"white-space:pre;overflow-x:auto;line-height:normal;font-family:Menlo,'DejaVu Sans Mono',consolas,'Courier New',monospace\"></pre>\n"
      ],
      "text/plain": []
     },
     "metadata": {},
     "output_type": "display_data"
    },
    {
     "data": {
      "text/html": [
       "<pre style=\"white-space:pre;overflow-x:auto;line-height:normal;font-family:Menlo,'DejaVu Sans Mono',consolas,'Courier New',monospace\">\n",
       "</pre>\n"
      ],
      "text/plain": [
       "\n"
      ]
     },
     "metadata": {},
     "output_type": "display_data"
    },
    {
     "data": {
      "application/vnd.jupyter.widget-view+json": {
       "model_id": "0e8aee5d8f904e57b679aa5d17ba565f",
       "version_major": 2,
       "version_minor": 0
      },
      "text/plain": [
       "Output()"
      ]
     },
     "metadata": {},
     "output_type": "display_data"
    },
    {
     "data": {
      "text/html": [
       "<pre style=\"white-space:pre;overflow-x:auto;line-height:normal;font-family:Menlo,'DejaVu Sans Mono',consolas,'Courier New',monospace\"></pre>\n"
      ],
      "text/plain": []
     },
     "metadata": {},
     "output_type": "display_data"
    },
    {
     "data": {
      "text/html": [
       "<pre style=\"white-space:pre;overflow-x:auto;line-height:normal;font-family:Menlo,'DejaVu Sans Mono',consolas,'Courier New',monospace\">\n",
       "</pre>\n"
      ],
      "text/plain": [
       "\n"
      ]
     },
     "metadata": {},
     "output_type": "display_data"
    },
    {
     "data": {
      "application/vnd.jupyter.widget-view+json": {
       "model_id": "86597e2884804ce88c6229212a78aa26",
       "version_major": 2,
       "version_minor": 0
      },
      "text/plain": [
       "Output()"
      ]
     },
     "metadata": {},
     "output_type": "display_data"
    },
    {
     "data": {
      "text/html": [
       "<pre style=\"white-space:pre;overflow-x:auto;line-height:normal;font-family:Menlo,'DejaVu Sans Mono',consolas,'Courier New',monospace\"></pre>\n"
      ],
      "text/plain": []
     },
     "metadata": {},
     "output_type": "display_data"
    },
    {
     "data": {
      "text/html": [
       "<pre style=\"white-space:pre;overflow-x:auto;line-height:normal;font-family:Menlo,'DejaVu Sans Mono',consolas,'Courier New',monospace\">\n",
       "</pre>\n"
      ],
      "text/plain": [
       "\n"
      ]
     },
     "metadata": {},
     "output_type": "display_data"
    },
    {
     "data": {
      "application/vnd.jupyter.widget-view+json": {
       "model_id": "3c58d4e8b4a7400fad80e811c61aa0d5",
       "version_major": 2,
       "version_minor": 0
      },
      "text/plain": [
       "Output()"
      ]
     },
     "metadata": {},
     "output_type": "display_data"
    },
    {
     "data": {
      "text/html": [
       "<pre style=\"white-space:pre;overflow-x:auto;line-height:normal;font-family:Menlo,'DejaVu Sans Mono',consolas,'Courier New',monospace\"></pre>\n"
      ],
      "text/plain": []
     },
     "metadata": {},
     "output_type": "display_data"
    },
    {
     "data": {
      "text/html": [
       "<pre style=\"white-space:pre;overflow-x:auto;line-height:normal;font-family:Menlo,'DejaVu Sans Mono',consolas,'Courier New',monospace\">\n",
       "</pre>\n"
      ],
      "text/plain": [
       "\n"
      ]
     },
     "metadata": {},
     "output_type": "display_data"
    },
    {
     "data": {
      "application/vnd.jupyter.widget-view+json": {
       "model_id": "6d43a13a448046b5ba7cd1755ecc95ee",
       "version_major": 2,
       "version_minor": 0
      },
      "text/plain": [
       "Output()"
      ]
     },
     "metadata": {},
     "output_type": "display_data"
    },
    {
     "data": {
      "text/html": [
       "<pre style=\"white-space:pre;overflow-x:auto;line-height:normal;font-family:Menlo,'DejaVu Sans Mono',consolas,'Courier New',monospace\"></pre>\n"
      ],
      "text/plain": []
     },
     "metadata": {},
     "output_type": "display_data"
    },
    {
     "data": {
      "text/html": [
       "<pre style=\"white-space:pre;overflow-x:auto;line-height:normal;font-family:Menlo,'DejaVu Sans Mono',consolas,'Courier New',monospace\">\n",
       "</pre>\n"
      ],
      "text/plain": [
       "\n"
      ]
     },
     "metadata": {},
     "output_type": "display_data"
    },
    {
     "data": {
      "application/vnd.jupyter.widget-view+json": {
       "model_id": "6c16be62f4ea4b9e8511b0e6d95077b8",
       "version_major": 2,
       "version_minor": 0
      },
      "text/plain": [
       "Output()"
      ]
     },
     "metadata": {},
     "output_type": "display_data"
    },
    {
     "data": {
      "text/html": [
       "<pre style=\"white-space:pre;overflow-x:auto;line-height:normal;font-family:Menlo,'DejaVu Sans Mono',consolas,'Courier New',monospace\"></pre>\n"
      ],
      "text/plain": []
     },
     "metadata": {},
     "output_type": "display_data"
    },
    {
     "data": {
      "text/html": [
       "<pre style=\"white-space:pre;overflow-x:auto;line-height:normal;font-family:Menlo,'DejaVu Sans Mono',consolas,'Courier New',monospace\">\n",
       "</pre>\n"
      ],
      "text/plain": [
       "\n"
      ]
     },
     "metadata": {},
     "output_type": "display_data"
    },
    {
     "data": {
      "application/vnd.jupyter.widget-view+json": {
       "model_id": "297f0532abba43d79cf234ecea8965bf",
       "version_major": 2,
       "version_minor": 0
      },
      "text/plain": [
       "Output()"
      ]
     },
     "metadata": {},
     "output_type": "display_data"
    },
    {
     "data": {
      "text/html": [
       "<pre style=\"white-space:pre;overflow-x:auto;line-height:normal;font-family:Menlo,'DejaVu Sans Mono',consolas,'Courier New',monospace\"></pre>\n"
      ],
      "text/plain": []
     },
     "metadata": {},
     "output_type": "display_data"
    },
    {
     "data": {
      "text/html": [
       "<pre style=\"white-space:pre;overflow-x:auto;line-height:normal;font-family:Menlo,'DejaVu Sans Mono',consolas,'Courier New',monospace\">\n",
       "</pre>\n"
      ],
      "text/plain": [
       "\n"
      ]
     },
     "metadata": {},
     "output_type": "display_data"
    },
    {
     "data": {
      "application/vnd.jupyter.widget-view+json": {
       "model_id": "d176a9022691464bbf178d616cbe06fc",
       "version_major": 2,
       "version_minor": 0
      },
      "text/plain": [
       "Output()"
      ]
     },
     "metadata": {},
     "output_type": "display_data"
    },
    {
     "data": {
      "text/html": [
       "<pre style=\"white-space:pre;overflow-x:auto;line-height:normal;font-family:Menlo,'DejaVu Sans Mono',consolas,'Courier New',monospace\"></pre>\n"
      ],
      "text/plain": []
     },
     "metadata": {},
     "output_type": "display_data"
    },
    {
     "data": {
      "text/html": [
       "<pre style=\"white-space:pre;overflow-x:auto;line-height:normal;font-family:Menlo,'DejaVu Sans Mono',consolas,'Courier New',monospace\">\n",
       "</pre>\n"
      ],
      "text/plain": [
       "\n"
      ]
     },
     "metadata": {},
     "output_type": "display_data"
    },
    {
     "data": {
      "application/vnd.jupyter.widget-view+json": {
       "model_id": "713c0e8db752492684754619da818d6a",
       "version_major": 2,
       "version_minor": 0
      },
      "text/plain": [
       "Output()"
      ]
     },
     "metadata": {},
     "output_type": "display_data"
    },
    {
     "data": {
      "text/html": [
       "<pre style=\"white-space:pre;overflow-x:auto;line-height:normal;font-family:Menlo,'DejaVu Sans Mono',consolas,'Courier New',monospace\"></pre>\n"
      ],
      "text/plain": []
     },
     "metadata": {},
     "output_type": "display_data"
    },
    {
     "data": {
      "text/html": [
       "<pre style=\"white-space:pre;overflow-x:auto;line-height:normal;font-family:Menlo,'DejaVu Sans Mono',consolas,'Courier New',monospace\">\n",
       "</pre>\n"
      ],
      "text/plain": [
       "\n"
      ]
     },
     "metadata": {},
     "output_type": "display_data"
    },
    {
     "data": {
      "application/vnd.jupyter.widget-view+json": {
       "model_id": "a4afb61c878d4146922110887e043c86",
       "version_major": 2,
       "version_minor": 0
      },
      "text/plain": [
       "Output()"
      ]
     },
     "metadata": {},
     "output_type": "display_data"
    },
    {
     "data": {
      "text/html": [
       "<pre style=\"white-space:pre;overflow-x:auto;line-height:normal;font-family:Menlo,'DejaVu Sans Mono',consolas,'Courier New',monospace\"></pre>\n"
      ],
      "text/plain": []
     },
     "metadata": {},
     "output_type": "display_data"
    },
    {
     "data": {
      "text/html": [
       "<pre style=\"white-space:pre;overflow-x:auto;line-height:normal;font-family:Menlo,'DejaVu Sans Mono',consolas,'Courier New',monospace\">\n",
       "</pre>\n"
      ],
      "text/plain": [
       "\n"
      ]
     },
     "metadata": {},
     "output_type": "display_data"
    },
    {
     "data": {
      "application/vnd.jupyter.widget-view+json": {
       "model_id": "95e9e749a15148669b24e167905e2c16",
       "version_major": 2,
       "version_minor": 0
      },
      "text/plain": [
       "Output()"
      ]
     },
     "metadata": {},
     "output_type": "display_data"
    },
    {
     "data": {
      "text/html": [
       "<pre style=\"white-space:pre;overflow-x:auto;line-height:normal;font-family:Menlo,'DejaVu Sans Mono',consolas,'Courier New',monospace\"></pre>\n"
      ],
      "text/plain": []
     },
     "metadata": {},
     "output_type": "display_data"
    },
    {
     "data": {
      "text/html": [
       "<pre style=\"white-space:pre;overflow-x:auto;line-height:normal;font-family:Menlo,'DejaVu Sans Mono',consolas,'Courier New',monospace\">\n",
       "</pre>\n"
      ],
      "text/plain": [
       "\n"
      ]
     },
     "metadata": {},
     "output_type": "display_data"
    },
    {
     "data": {
      "application/vnd.jupyter.widget-view+json": {
       "model_id": "96129cd997dc48e0a2dbc951f3c5453f",
       "version_major": 2,
       "version_minor": 0
      },
      "text/plain": [
       "Output()"
      ]
     },
     "metadata": {},
     "output_type": "display_data"
    },
    {
     "data": {
      "text/html": [
       "<pre style=\"white-space:pre;overflow-x:auto;line-height:normal;font-family:Menlo,'DejaVu Sans Mono',consolas,'Courier New',monospace\"></pre>\n"
      ],
      "text/plain": []
     },
     "metadata": {},
     "output_type": "display_data"
    },
    {
     "data": {
      "text/html": [
       "<pre style=\"white-space:pre;overflow-x:auto;line-height:normal;font-family:Menlo,'DejaVu Sans Mono',consolas,'Courier New',monospace\">\n",
       "</pre>\n"
      ],
      "text/plain": [
       "\n"
      ]
     },
     "metadata": {},
     "output_type": "display_data"
    }
   ],
   "source": [
    "cv_results=[]\n",
    "# CV for Bayesian Inference\n",
    "season_idx = 0\n",
    "for train_index, test_index in gkf.split(X, y, groups):\n",
    "    X_train, X_test = X.iloc[train_index], X.iloc[test_index]\n",
    "    y_train, y_test = y.iloc[train_index], y.iloc[test_index]\n",
    "\n",
    "    holdout_season = seasons[season_idx]\n",
    "    with pm.Model() as logistic_model:\n",
    "  \n",
    "        # Set Normal priors for the coefficients\n",
    "        intercept = pm.Normal('intercept', mu=0, sigma=1)\n",
    "        betas = pm.Normal('betas', mu=0, sigma=np.array(np.round(X_train.std(),2)), shape=X_train.shape[1])\n",
    "\n",
    "        # set predictors as shared variable\n",
    "        predictors = pm.MutableData(\"predictors\", X_train.values)\n",
    "\n",
    "        # Likelihood (sampling distribution) of observations\n",
    "        likelihood = pm.Deterministic(\"likelihood\", pm.invlogit(intercept + pm.math.dot(predictors, betas)))                     \n",
    "\n",
    "        # Bernoulli random vector with probability of success\n",
    "        outcome  = pm.Bernoulli('outcome', p=likelihood, observed=y_train)\n",
    "        \n",
    "        sampler = pm.NUTS() # Use the no-uturn sampler\n",
    "        #sampler = pm.Slice() # Use the slice sampling algorithm\n",
    "\n",
    "        # Sample from the posterior\n",
    "        trace = pm.sample(draws=5000, step = sampler, chains=4, tune=1000, random_seed=100)\n",
    "\n",
    "    with logistic_model:\n",
    "\n",
    "        # update values of predictors:\n",
    "        pm.set_data({\"predictors\": X_test.values})\n",
    "\n",
    "        # use the updated values and predict outcomes and probabilities:\n",
    "        trace = pm.sample_posterior_predictive(\n",
    "            trace,\n",
    "            var_names=[\"likelihood\"],\n",
    "            return_inferencedata=True,\n",
    "            predictions=True,\n",
    "            extend_inferencedata=True\n",
    "        )\n",
    "\n",
    "    y_pred = trace.predictions[\"likelihood\"].mean((\"chain\", \"draw\")).values\n",
    "    y_pred = y_pred > 0.5\n",
    "    accuracy = accuracy_score(y_test, y_pred)\n",
    "    print(f\"Season {holdout_season}: {accuracy}\")\n",
    "    cv_results.append(accuracy)\n",
    "    season_idx += 1\n",
    "\n",
    "# Print the average accuracy across all folds\n",
    "print(f\"Bayesian Model: Average CV Accuracy: {np.mean(cv_results)}\")"
   ]
  },
  {
   "cell_type": "code",
   "execution_count": 35,
   "metadata": {},
   "outputs": [
    {
     "data": {
      "image/png": "[encoded data removed]",
      "text/plain": [
       "<Figure size 1200x200 with 2 Axes>"
      ]
     },
     "metadata": {},
     "output_type": "display_data"
    }
   ],
   "source": [
    "az.plot_trace(trace, var_names=[\"betas\"]);"
   ]
  },
  {
   "cell_type": "code",
   "execution_count": 36,
   "metadata": {},
   "outputs": [
    {
     "data": {
      "text/html": [
       "<div>\n",
       "<style scoped>\n",
       "    .dataframe tbody tr th:only-of-type {\n",
       "        vertical-align: middle;\n",
       "    }\n",
       "\n",
       "    .dataframe tbody tr th {\n",
       "        vertical-align: top;\n",
       "    }\n",
       "\n",
       "    .dataframe thead th {\n",
       "        text-align: right;\n",
       "    }\n",
       "</style>\n",
       "<table border=\"1\" class=\"dataframe\">\n",
       "  <thead>\n",
       "    <tr style=\"text-align: right;\">\n",
       "      <th></th>\n",
       "      <th>mean</th>\n",
       "      <th>sd</th>\n",
       "      <th>hdi_3%</th>\n",
       "      <th>hdi_97%</th>\n",
       "      <th>mcse_mean</th>\n",
       "      <th>mcse_sd</th>\n",
       "      <th>ess_bulk</th>\n",
       "      <th>ess_tail</th>\n",
       "      <th>r_hat</th>\n",
       "    </tr>\n",
       "  </thead>\n",
       "  <tbody>\n",
       "    <tr>\n",
       "      <th>betas[0]</th>\n",
       "      <td>-0.0908</td>\n",
       "      <td>0.1466</td>\n",
       "      <td>-0.3662</td>\n",
       "      <td>0.1836</td>\n",
       "      <td>0.0010</td>\n",
       "      <td>0.0009</td>\n",
       "      <td>23005.0870</td>\n",
       "      <td>16606.6097</td>\n",
       "      <td>1.0000</td>\n",
       "    </tr>\n",
       "    <tr>\n",
       "      <th>betas[1]</th>\n",
       "      <td>-0.1547</td>\n",
       "      <td>0.0114</td>\n",
       "      <td>-0.1767</td>\n",
       "      <td>-0.1339</td>\n",
       "      <td>0.0001</td>\n",
       "      <td>0.0001</td>\n",
       "      <td>22013.3313</td>\n",
       "      <td>16883.1552</td>\n",
       "      <td>1.0002</td>\n",
       "    </tr>\n",
       "    <tr>\n",
       "      <th>betas[2]</th>\n",
       "      <td>0.0560</td>\n",
       "      <td>0.0098</td>\n",
       "      <td>0.0378</td>\n",
       "      <td>0.0745</td>\n",
       "      <td>0.0001</td>\n",
       "      <td>0.0000</td>\n",
       "      <td>19845.2955</td>\n",
       "      <td>17054.0050</td>\n",
       "      <td>1.0000</td>\n",
       "    </tr>\n",
       "    <tr>\n",
       "      <th>betas[3]</th>\n",
       "      <td>-0.0005</td>\n",
       "      <td>0.0399</td>\n",
       "      <td>-0.0749</td>\n",
       "      <td>0.0744</td>\n",
       "      <td>0.0003</td>\n",
       "      <td>0.0003</td>\n",
       "      <td>23068.2741</td>\n",
       "      <td>14901.9578</td>\n",
       "      <td>1.0003</td>\n",
       "    </tr>\n",
       "    <tr>\n",
       "      <th>betas[4]</th>\n",
       "      <td>0.0006</td>\n",
       "      <td>0.0403</td>\n",
       "      <td>-0.0745</td>\n",
       "      <td>0.0771</td>\n",
       "      <td>0.0002</td>\n",
       "      <td>0.0003</td>\n",
       "      <td>27919.6217</td>\n",
       "      <td>15217.1259</td>\n",
       "      <td>1.0003</td>\n",
       "    </tr>\n",
       "    <tr>\n",
       "      <th>betas[5]</th>\n",
       "      <td>0.0007</td>\n",
       "      <td>0.0499</td>\n",
       "      <td>-0.0931</td>\n",
       "      <td>0.0935</td>\n",
       "      <td>0.0003</td>\n",
       "      <td>0.0003</td>\n",
       "      <td>24772.1756</td>\n",
       "      <td>16606.4995</td>\n",
       "      <td>1.0003</td>\n",
       "    </tr>\n",
       "  </tbody>\n",
       "</table>\n",
       "</div>"
      ],
      "text/plain": [
       "            mean      sd  hdi_3%  hdi_97%  mcse_mean  mcse_sd    ess_bulk  \\\n",
       "betas[0] -0.0908  0.1466 -0.3662   0.1836     0.0010   0.0009  23005.0870   \n",
       "betas[1] -0.1547  0.0114 -0.1767  -0.1339     0.0001   0.0001  22013.3313   \n",
       "betas[2]  0.0560  0.0098  0.0378   0.0745     0.0001   0.0000  19845.2955   \n",
       "betas[3] -0.0005  0.0399 -0.0749   0.0744     0.0003   0.0003  23068.2741   \n",
       "betas[4]  0.0006  0.0403 -0.0745   0.0771     0.0002   0.0003  27919.6217   \n",
       "betas[5]  0.0007  0.0499 -0.0931   0.0935     0.0003   0.0003  24772.1756   \n",
       "\n",
       "            ess_tail   r_hat  \n",
       "betas[0]  16606.6097  1.0000  \n",
       "betas[1]  16883.1552  1.0002  \n",
       "betas[2]  17054.0050  1.0000  \n",
       "betas[3]  14901.9578  1.0003  \n",
       "betas[4]  15217.1259  1.0003  \n",
       "betas[5]  16606.4995  1.0003  "
      ]
     },
     "execution_count": 36,
     "metadata": {},
     "output_type": "execute_result"
    }
   ],
   "source": [
    "az.summary(trace, var_names=[\"betas\"], round_to=4)"
   ]
  },
  {
   "cell_type": "code",
   "execution_count": 39,
   "metadata": {},
   "outputs": [
    {
     "data": {
      "image/svg+xml": [
       "<?xml version=\"1.0\" encoding=\"UTF-8\" standalone=\"no\"?>\n",
       "<!DOCTYPE svg PUBLIC \"-//W3C//DTD SVG 1.1//EN\"\n",
       " \"http://www.w3.org/Graphics/SVG/1.1/DTD/svg11.dtd\">\n",
       "<!-- Generated by graphviz version 9.0.0 (0)\n",
       " -->\n",
       "<!-- Pages: 1 -->\n",
       "<svg width=\"308pt\" height=\"276pt\"\n",
       " viewBox=\"0.00 0.00 307.72 275.63\" xmlns=\"http://www.w3.org/2000/svg\" xmlns:xlink=\"http://www.w3.org/1999/xlink\">\n",
       "<g id=\"graph0\" class=\"graph\" transform=\"scale(1 1) rotate(0) translate(4 271.63)\">\n",
       "<polygon fill=\"white\" stroke=\"none\" points=\"-4,4 -4,-271.63 303.72,-271.63 303.72,4 -4,4\"/>\n",
       "<g id=\"clust3\" class=\"cluster\">\n",
       "<title>cluster1576</title>\n",
       "<path fill=\"none\" stroke=\"black\" d=\"M105.72,-8C105.72,-8 191.72,-8 191.72,-8 197.72,-8 203.72,-14 203.72,-20 203.72,-20 203.72,-117.82 203.72,-117.82 203.72,-123.82 197.72,-129.82 191.72,-129.82 191.72,-129.82 105.72,-129.82 105.72,-129.82 99.72,-129.82 93.72,-123.82 93.72,-117.82 93.72,-117.82 93.72,-20 93.72,-20 93.72,-14 99.72,-8 105.72,-8\"/>\n",
       "<text text-anchor=\"middle\" x=\"182.22\" y=\"-15.2\" font-family=\"Times New Roman,serif\" font-size=\"14.00\">1576</text>\n",
       "</g>\n",
       "<g id=\"clust2\" class=\"cluster\">\n",
       "<title>cluster1576 x 6</title>\n",
       "<path fill=\"none\" stroke=\"black\" d=\"M217.72,-149.73C217.72,-149.73 279.72,-149.73 279.72,-149.73 285.72,-149.73 291.72,-155.73 291.72,-161.73 291.72,-161.73 291.72,-235.73 291.72,-235.73 291.72,-241.73 285.72,-247.73 279.72,-247.73 279.72,-247.73 217.72,-247.73 217.72,-247.73 211.72,-247.73 205.72,-241.73 205.72,-235.73 205.72,-235.73 205.72,-161.73 205.72,-161.73 205.72,-155.73 211.72,-149.73 217.72,-149.73\"/>\n",
       "<text text-anchor=\"middle\" x=\"259.72\" y=\"-156.93\" font-family=\"Times New Roman,serif\" font-size=\"14.00\">1576 x 6</text>\n",
       "</g>\n",
       "<g id=\"clust1\" class=\"cluster\">\n",
       "<title>cluster6</title>\n",
       "<path fill=\"none\" stroke=\"black\" d=\"M111.72,-137.82C111.72,-137.82 185.72,-137.82 185.72,-137.82 191.72,-137.82 197.72,-143.82 197.72,-149.82 197.72,-149.82 197.72,-247.63 197.72,-247.63 197.72,-253.63 191.72,-259.63 185.72,-259.63 185.72,-259.63 111.72,-259.63 111.72,-259.63 105.72,-259.63 99.72,-253.63 99.72,-247.63 99.72,-247.63 99.72,-149.82 99.72,-149.82 99.72,-143.82 105.72,-137.82 111.72,-137.82\"/>\n",
       "<text text-anchor=\"middle\" x=\"186.35\" y=\"-145.02\" font-family=\"Times New Roman,serif\" font-size=\"14.00\">6</text>\n",
       "</g>\n",
       "<!-- intercept -->\n",
       "<g id=\"node1\" class=\"node\">\n",
       "<title>intercept</title>\n",
       "<ellipse fill=\"none\" stroke=\"black\" cx=\"44.72\" cy=\"-210.98\" rx=\"44.72\" ry=\"40.66\"/>\n",
       "<text text-anchor=\"middle\" x=\"44.72\" y=\"-222.43\" font-family=\"Times New Roman,serif\" font-size=\"14.00\">intercept</text>\n",
       "<text text-anchor=\"middle\" x=\"44.72\" y=\"-205.93\" font-family=\"Times New Roman,serif\" font-size=\"14.00\">~</text>\n",
       "<text text-anchor=\"middle\" x=\"44.72\" y=\"-189.43\" font-family=\"Times New Roman,serif\" font-size=\"14.00\">Normal</text>\n",
       "</g>\n",
       "<!-- outcome -->\n",
       "<g id=\"node4\" class=\"node\">\n",
       "<title>outcome</title>\n",
       "<ellipse fill=\"lightgrey\" stroke=\"black\" cx=\"148.72\" cy=\"-81.16\" rx=\"47.38\" ry=\"40.66\"/>\n",
       "<text text-anchor=\"middle\" x=\"148.72\" y=\"-92.61\" font-family=\"Times New Roman,serif\" font-size=\"14.00\">outcome</text>\n",
       "<text text-anchor=\"middle\" x=\"148.72\" y=\"-76.11\" font-family=\"Times New Roman,serif\" font-size=\"14.00\">~</text>\n",
       "<text text-anchor=\"middle\" x=\"148.72\" y=\"-59.61\" font-family=\"Times New Roman,serif\" font-size=\"14.00\">Bernoulli</text>\n",
       "</g>\n",
       "<!-- intercept&#45;&gt;outcome -->\n",
       "<g id=\"edge3\" class=\"edge\">\n",
       "<title>intercept&#45;&gt;outcome</title>\n",
       "<path fill=\"none\" stroke=\"black\" d=\"M67.35,-175.81C75.87,-163.54 85.88,-149.79 95.72,-137.82 100.39,-132.14 105.51,-126.33 110.66,-120.7\"/>\n",
       "<polygon fill=\"black\" stroke=\"black\" points=\"112.89,-123.44 117.15,-113.74 107.77,-118.66 112.89,-123.44\"/>\n",
       "</g>\n",
       "<!-- betas -->\n",
       "<g id=\"node2\" class=\"node\">\n",
       "<title>betas</title>\n",
       "<ellipse fill=\"none\" stroke=\"black\" cx=\"148.72\" cy=\"-210.98\" rx=\"41.01\" ry=\"40.66\"/>\n",
       "<text text-anchor=\"middle\" x=\"148.72\" y=\"-222.43\" font-family=\"Times New Roman,serif\" font-size=\"14.00\">betas</text>\n",
       "<text text-anchor=\"middle\" x=\"148.72\" y=\"-205.93\" font-family=\"Times New Roman,serif\" font-size=\"14.00\">~</text>\n",
       "<text text-anchor=\"middle\" x=\"148.72\" y=\"-189.43\" font-family=\"Times New Roman,serif\" font-size=\"14.00\">Normal</text>\n",
       "</g>\n",
       "<!-- betas&#45;&gt;outcome -->\n",
       "<g id=\"edge2\" class=\"edge\">\n",
       "<title>betas&#45;&gt;outcome</title>\n",
       "<path fill=\"none\" stroke=\"black\" d=\"M148.72,-169.88C148.72,-158.34 148.72,-145.6 148.72,-133.48\"/>\n",
       "<polygon fill=\"black\" stroke=\"black\" points=\"152.22,-133.62 148.72,-123.62 145.22,-133.62 152.22,-133.62\"/>\n",
       "</g>\n",
       "<!-- predictors -->\n",
       "<g id=\"node3\" class=\"node\">\n",
       "<title>predictors</title>\n",
       "<path fill=\"lightgrey\" stroke=\"black\" d=\"M271.72,-239.73C271.72,-239.73 225.72,-239.73 225.72,-239.73 219.72,-239.73 213.72,-233.73 213.72,-227.73 213.72,-227.73 213.72,-194.23 213.72,-194.23 213.72,-188.23 219.72,-182.23 225.72,-182.23 225.72,-182.23 271.72,-182.23 271.72,-182.23 277.72,-182.23 283.72,-188.23 283.72,-194.23 283.72,-194.23 283.72,-227.73 283.72,-227.73 283.72,-233.73 277.72,-239.73 271.72,-239.73\"/>\n",
       "<text text-anchor=\"middle\" x=\"248.72\" y=\"-222.43\" font-family=\"Times New Roman,serif\" font-size=\"14.00\">predictors</text>\n",
       "<text text-anchor=\"middle\" x=\"248.72\" y=\"-205.93\" font-family=\"Times New Roman,serif\" font-size=\"14.00\">~</text>\n",
       "<text text-anchor=\"middle\" x=\"248.72\" y=\"-189.43\" font-family=\"Times New Roman,serif\" font-size=\"14.00\">Data</text>\n",
       "</g>\n",
       "<!-- predictors&#45;&gt;outcome -->\n",
       "<g id=\"edge1\" class=\"edge\">\n",
       "<title>predictors&#45;&gt;outcome</title>\n",
       "<path fill=\"none\" stroke=\"black\" d=\"M232.02,-181.74C223.51,-168.07 212.67,-151.65 201.72,-137.82 197.16,-132.05 192.11,-126.19 186.99,-120.54\"/>\n",
       "<polygon fill=\"black\" stroke=\"black\" points=\"189.88,-118.51 180.52,-113.56 184.75,-123.27 189.88,-118.51\"/>\n",
       "</g>\n",
       "</g>\n",
       "</svg>\n"
      ],
      "text/plain": [
       "<graphviz.graphs.Digraph at 0x21110acbd40>"
      ]
     },
     "execution_count": 39,
     "metadata": {},
     "output_type": "execute_result"
    }
   ],
   "source": [
    "pm.model_to_graphviz(logistic_model)"
   ]
  },
  {
   "cell_type": "markdown",
   "metadata": {},
   "source": [
    "# Prediction with 2024 games"
   ]
  },
  {
   "cell_type": "code",
   "execution_count": 45,
   "metadata": {},
   "outputs": [],
   "source": [
    "# 2024 real tourney game\n",
    "tourney_2024 = pd.concat(\n",
    "    [\n",
    "        pd.read_csv(data_path + \"Men2024.csv\").assign(League=\"M\"),\n",
    "        pd.read_csv(data_path + \"Women2024.csv\").assign(League=\"W\"),\n",
    "    ],\n",
    ").reset_index(drop=True)"
   ]
  },
  {
   "cell_type": "code",
   "execution_count": 46,
   "metadata": {},
   "outputs": [
    {
     "data": {
      "text/html": [
       "<div>\n",
       "<style scoped>\n",
       "    .dataframe tbody tr th:only-of-type {\n",
       "        vertical-align: middle;\n",
       "    }\n",
       "\n",
       "    .dataframe tbody tr th {\n",
       "        vertical-align: top;\n",
       "    }\n",
       "\n",
       "    .dataframe thead th {\n",
       "        text-align: right;\n",
       "    }\n",
       "</style>\n",
       "<table border=\"1\" class=\"dataframe\">\n",
       "  <thead>\n",
       "    <tr style=\"text-align: right;\">\n",
       "      <th></th>\n",
       "      <th>TeamID</th>\n",
       "      <th>TeamIDOpp</th>\n",
       "      <th>Win</th>\n",
       "      <th>League</th>\n",
       "    </tr>\n",
       "  </thead>\n",
       "  <tbody>\n",
       "    <tr>\n",
       "      <th>0</th>\n",
       "      <td>1163</td>\n",
       "      <td>1391</td>\n",
       "      <td>0</td>\n",
       "      <td>M</td>\n",
       "    </tr>\n",
       "    <tr>\n",
       "      <th>1</th>\n",
       "      <td>1194</td>\n",
       "      <td>1321</td>\n",
       "      <td>0</td>\n",
       "      <td>M</td>\n",
       "    </tr>\n",
       "    <tr>\n",
       "      <th>2</th>\n",
       "      <td>1361</td>\n",
       "      <td>1412</td>\n",
       "      <td>0</td>\n",
       "      <td>M</td>\n",
       "    </tr>\n",
       "    <tr>\n",
       "      <th>3</th>\n",
       "      <td>1120</td>\n",
       "      <td>1463</td>\n",
       "      <td>1</td>\n",
       "      <td>M</td>\n",
       "    </tr>\n",
       "    <tr>\n",
       "      <th>4</th>\n",
       "      <td>1140</td>\n",
       "      <td>1182</td>\n",
       "      <td>0</td>\n",
       "      <td>M</td>\n",
       "    </tr>\n",
       "  </tbody>\n",
       "</table>\n",
       "</div>"
      ],
      "text/plain": [
       "   TeamID  TeamIDOpp  Win League\n",
       "0    1163       1391    0      M\n",
       "1    1194       1321    0      M\n",
       "2    1361       1412    0      M\n",
       "3    1120       1463    1      M\n",
       "4    1140       1182    0      M"
      ]
     },
     "execution_count": 46,
     "metadata": {},
     "output_type": "execute_result"
    }
   ],
   "source": [
    "tourney_2024.head()"
   ]
  },
  {
   "cell_type": "code",
   "execution_count": 47,
   "metadata": {},
   "outputs": [],
   "source": [
    "test_season = 2024\n",
    "\n",
    "seeds_2024 = pd.read_csv(data_path + \"2024_tourney_seeds.csv\")\n",
    "\n",
    "seeds_2024[\"SeedNum\"] = (\n",
    "    seeds_2024[\"Seed\"].str.replace(\"a\", \"\").str.replace(\"b\", \"\").str[1:].astype(\"int\")\n",
    ")\n",
    "\n",
    "tourney_pairs = (\n",
    "    seeds_2024.merge(seeds_2024, on=[\"Tournament\"], suffixes=(\"\", \"Opp\"))\n",
    "    .assign(Season=test_season)\n",
    "    .query(\"TeamID != TeamIDOpp\")\n",
    "    .rename(columns={\"Tournament\": \"League\"})\n",
    ")\n",
    "\n",
    "tourney_pairs = (\n",
    "    tourney_pairs.merge(\n",
    "        team_season_agg[\n",
    "            [\"Season\", \"League\", \"TeamID\", \"AvgScoreDiff\", \"AvgThreePointerMade\",\n",
    "         \"AvgThreePointerAtp\", \"AvgFreeThrowsMade\", \"AvgFreeThrowsAtp\",\n",
    "         \"AvgFieldGoalsMade\", \"AvgFieldGoalsAtp\", \"AvgThreePointerHitRate\",\n",
    "         \"AvgFieldGoalsPercentage\", \"AvgFreeThrowHitRate\", \"MedianScoreDiff\",\n",
    "         \"MinScoreDiff\", \"WinPercentage\", \"MaxScoreDiff\"]\n",
    "        ],\n",
    "        on=[\"Season\", \"League\", \"TeamID\"],\n",
    "        how=\"left\",\n",
    "    )\n",
    "    .merge(\n",
    "        team_season_agg[\n",
    "            [\"Season\", \"League\", \"TeamID\", \"AvgScoreDiff\", \"AvgThreePointerMade\",\n",
    "         \"AvgThreePointerAtp\", \"AvgFreeThrowsMade\", \"AvgFreeThrowsAtp\",\n",
    "         \"AvgFieldGoalsMade\", \"AvgFieldGoalsAtp\", \"AvgThreePointerHitRate\",\n",
    "         \"AvgFieldGoalsPercentage\", \"AvgFreeThrowHitRate\", \"MedianScoreDiff\",\n",
    "         \"MinScoreDiff\", \"WinPercentage\", \"MaxScoreDiff\"]\n",
    "        ].rename(\n",
    "            columns={\n",
    "            \"TeamID\": \"TeamIDOpp\",\n",
    "            \"WinPercentage\": \"OppWinPercentage\",\n",
    "            \"MedianScoreDiff\": \"OppMedianScoreDiff\",\n",
    "            \"SeedNum\": \"OppSeedNum\",\n",
    "            \"AvgScoreDiff\": \"OppAvgScoreDiff\",\n",
    "            \"AvgThreePointerMade\": \"OppAvgThreePointerMade\",\n",
    "            \"AvgThreePointerAtp\": \"OppAvgThreePointerAtp\",\n",
    "            \"AvgFreeThrowsMade\": \"OppAvgFreeThrowsMade\",\n",
    "            \"AvgFreeThrowsAtp\": \"OppAvgFreeThrowsAtp\",\n",
    "            \"AvgFieldGoalsMade\": \"OppAvgFieldGoalsMade\",\n",
    "            \"AvgFieldGoalsAtp\": \"OppAvgFieldGoalsAtp\",\n",
    "            \"AvgThreePointerHitRate\": \"OppAvgThreePointerHitRate\",\n",
    "            \"AvgFieldGoalsPercentage\": \"OppAvgFieldGoalsPercentage\",\n",
    "            \"AvgFreeThrowHitRate\": \"OppAvgFreeThrowHitRate\",\n",
    "            \"MinScoreDiff\": \"OppMinScoreDiff\",\n",
    "            \"MaxScoreDiff\": \"OppMaxScoreDiff\",\n",
    "            }\n",
    "        ),\n",
    "        on=[\"Season\", \"League\", \"TeamIDOpp\"],\n",
    "    )\n",
    "    .reset_index(drop=True)\n",
    ")"
   ]
  },
  {
   "cell_type": "code",
   "execution_count": 48,
   "metadata": {},
   "outputs": [],
   "source": [
    "# Add test features we need to use\n",
    "tourney_pairs[\"BaselinePred\"] = (\n",
    "    tourney_pairs[\"SeedNum\"] < tourney_pairs[\"SeedNumOpp\"]\n",
    ")\n",
    "\n",
    "tourney_pairs.loc[\n",
    "    tourney_pairs[\"SeedNum\"] == tourney_pairs[\"SeedNumOpp\"],\n",
    "    \"BaselinePred\",\n",
    "] = (\n",
    "    tourney_pairs[\"WinPercentage\"] > tourney_pairs[\"OppWinPercentage\"]\n",
    ")\n",
    "\n",
    "tourney_pairs[\"WinPctDiff\"] = (\n",
    "    tourney_pairs[\"WinPercentage\"] - tourney_pairs[\"OppWinPercentage\"]\n",
    ")\n",
    "\n",
    "tourney_pairs[\"SeedNumDiff\"] = (\n",
    "    tourney_pairs[\"SeedNum\"] - tourney_pairs[\"SeedNumOpp\"]\n",
    ")\n",
    "\n",
    "tourney_pairs[\"AvgScoreDiffDiff\"] = (\n",
    "    tourney_pairs[\"AvgScoreDiff\"] - tourney_pairs[\"OppAvgScoreDiff\"]\n",
    ")\n",
    "\n",
    "tourney_pairs[\"AvgThreePointerHitRateDiff\"] = (\n",
    "    tourney_pairs[\"AvgThreePointerHitRate\"] - tourney_pairs[\"OppAvgThreePointerHitRate\"]\n",
    ")\n",
    "\n",
    "tourney_pairs[\"AvgFieldGoalsPercentageDiff\"] = (\n",
    "    tourney_pairs[\"AvgFieldGoalsPercentage\"] - tourney_pairs[\"OppAvgFieldGoalsPercentage\"]\n",
    ")\n",
    "\n",
    "tourney_pairs[\"AvgFreeThrowHitRateDiff\"] = (\n",
    "    tourney_pairs[\"AvgFreeThrowHitRate\"] - tourney_pairs[\"OppAvgFreeThrowHitRate\"]\n",
    ")"
   ]
  },
  {
   "cell_type": "code",
   "execution_count": 49,
   "metadata": {},
   "outputs": [
    {
     "data": {
      "text/html": [
       "<div>\n",
       "<style scoped>\n",
       "    .dataframe tbody tr th:only-of-type {\n",
       "        vertical-align: middle;\n",
       "    }\n",
       "\n",
       "    .dataframe tbody tr th {\n",
       "        vertical-align: top;\n",
       "    }\n",
       "\n",
       "    .dataframe thead th {\n",
       "        text-align: right;\n",
       "    }\n",
       "</style>\n",
       "<table border=\"1\" class=\"dataframe\">\n",
       "  <thead>\n",
       "    <tr style=\"text-align: right;\">\n",
       "      <th></th>\n",
       "      <th>League</th>\n",
       "      <th>Seed</th>\n",
       "      <th>TeamID</th>\n",
       "      <th>SeedNum</th>\n",
       "      <th>SeedOpp</th>\n",
       "      <th>TeamIDOpp</th>\n",
       "      <th>SeedNumOpp</th>\n",
       "      <th>Season</th>\n",
       "      <th>AvgScoreDiff</th>\n",
       "      <th>AvgThreePointerMade</th>\n",
       "      <th>...</th>\n",
       "      <th>OppMinScoreDiff</th>\n",
       "      <th>OppWinPercentage</th>\n",
       "      <th>OppMaxScoreDiff</th>\n",
       "      <th>BaselinePred</th>\n",
       "      <th>WinPctDiff</th>\n",
       "      <th>SeedNumDiff</th>\n",
       "      <th>AvgScoreDiffDiff</th>\n",
       "      <th>AvgThreePointerHitRateDiff</th>\n",
       "      <th>AvgFieldGoalsPercentageDiff</th>\n",
       "      <th>AvgFreeThrowHitRateDiff</th>\n",
       "    </tr>\n",
       "  </thead>\n",
       "  <tbody>\n",
       "    <tr>\n",
       "      <th>0</th>\n",
       "      <td>M</td>\n",
       "      <td>W01</td>\n",
       "      <td>1163</td>\n",
       "      <td>1</td>\n",
       "      <td>W02</td>\n",
       "      <td>1235</td>\n",
       "      <td>2</td>\n",
       "      <td>2024</td>\n",
       "      <td>17.058824</td>\n",
       "      <td>8.794118</td>\n",
       "      <td>...</td>\n",
       "      <td>-15</td>\n",
       "      <td>0.794118</td>\n",
       "      <td>55</td>\n",
       "      <td>True</td>\n",
       "      <td>0.117647</td>\n",
       "      <td>-1</td>\n",
       "      <td>2.794118</td>\n",
       "      <td>0.020953</td>\n",
       "      <td>0.032912</td>\n",
       "      <td>0.048511</td>\n",
       "    </tr>\n",
       "    <tr>\n",
       "      <th>1</th>\n",
       "      <td>M</td>\n",
       "      <td>W01</td>\n",
       "      <td>1163</td>\n",
       "      <td>1</td>\n",
       "      <td>W03</td>\n",
       "      <td>1228</td>\n",
       "      <td>3</td>\n",
       "      <td>2024</td>\n",
       "      <td>17.058824</td>\n",
       "      <td>8.794118</td>\n",
       "      <td>...</td>\n",
       "      <td>-9</td>\n",
       "      <td>0.764706</td>\n",
       "      <td>33</td>\n",
       "      <td>True</td>\n",
       "      <td>0.147059</td>\n",
       "      <td>-2</td>\n",
       "      <td>6.441176</td>\n",
       "      <td>0.011540</td>\n",
       "      <td>0.024075</td>\n",
       "      <td>0.010630</td>\n",
       "    </tr>\n",
       "    <tr>\n",
       "      <th>2</th>\n",
       "      <td>M</td>\n",
       "      <td>W01</td>\n",
       "      <td>1163</td>\n",
       "      <td>1</td>\n",
       "      <td>W04</td>\n",
       "      <td>1120</td>\n",
       "      <td>4</td>\n",
       "      <td>2024</td>\n",
       "      <td>17.058824</td>\n",
       "      <td>8.794118</td>\n",
       "      <td>...</td>\n",
       "      <td>-16</td>\n",
       "      <td>0.794118</td>\n",
       "      <td>40</td>\n",
       "      <td>True</td>\n",
       "      <td>0.117647</td>\n",
       "      <td>-3</td>\n",
       "      <td>1.764706</td>\n",
       "      <td>0.012925</td>\n",
       "      <td>0.021727</td>\n",
       "      <td>-0.001111</td>\n",
       "    </tr>\n",
       "    <tr>\n",
       "      <th>3</th>\n",
       "      <td>M</td>\n",
       "      <td>W01</td>\n",
       "      <td>1163</td>\n",
       "      <td>1</td>\n",
       "      <td>W05</td>\n",
       "      <td>1361</td>\n",
       "      <td>5</td>\n",
       "      <td>2024</td>\n",
       "      <td>17.058824</td>\n",
       "      <td>8.794118</td>\n",
       "      <td>...</td>\n",
       "      <td>-18</td>\n",
       "      <td>0.687500</td>\n",
       "      <td>32</td>\n",
       "      <td>True</td>\n",
       "      <td>0.224265</td>\n",
       "      <td>-4</td>\n",
       "      <td>10.215074</td>\n",
       "      <td>0.050597</td>\n",
       "      <td>0.056380</td>\n",
       "      <td>0.015622</td>\n",
       "    </tr>\n",
       "    <tr>\n",
       "      <th>4</th>\n",
       "      <td>M</td>\n",
       "      <td>W01</td>\n",
       "      <td>1163</td>\n",
       "      <td>1</td>\n",
       "      <td>W06</td>\n",
       "      <td>1140</td>\n",
       "      <td>6</td>\n",
       "      <td>2024</td>\n",
       "      <td>17.058824</td>\n",
       "      <td>8.794118</td>\n",
       "      <td>...</td>\n",
       "      <td>-16</td>\n",
       "      <td>0.696970</td>\n",
       "      <td>57</td>\n",
       "      <td>True</td>\n",
       "      <td>0.214795</td>\n",
       "      <td>-5</td>\n",
       "      <td>5.119430</td>\n",
       "      <td>0.015183</td>\n",
       "      <td>0.033849</td>\n",
       "      <td>0.030599</td>\n",
       "    </tr>\n",
       "  </tbody>\n",
       "</table>\n",
       "<p>5 rows × 43 columns</p>\n",
       "</div>"
      ],
      "text/plain": [
       "  League Seed  TeamID  SeedNum SeedOpp  TeamIDOpp  SeedNumOpp  Season  \\\n",
       "0      M  W01    1163        1     W02       1235           2    2024   \n",
       "1      M  W01    1163        1     W03       1228           3    2024   \n",
       "2      M  W01    1163        1     W04       1120           4    2024   \n",
       "3      M  W01    1163        1     W05       1361           5    2024   \n",
       "4      M  W01    1163        1     W06       1140           6    2024   \n",
       "\n",
       "   AvgScoreDiff  AvgThreePointerMade  ...  OppMinScoreDiff  OppWinPercentage  \\\n",
       "0     17.058824             8.794118  ...              -15          0.794118   \n",
       "1     17.058824             8.794118  ...               -9          0.764706   \n",
       "2     17.058824             8.794118  ...              -16          0.794118   \n",
       "3     17.058824             8.794118  ...              -18          0.687500   \n",
       "4     17.058824             8.794118  ...              -16          0.696970   \n",
       "\n",
       "   OppMaxScoreDiff  BaselinePred  WinPctDiff  SeedNumDiff  AvgScoreDiffDiff  \\\n",
       "0               55          True    0.117647           -1          2.794118   \n",
       "1               33          True    0.147059           -2          6.441176   \n",
       "2               40          True    0.117647           -3          1.764706   \n",
       "3               32          True    0.224265           -4         10.215074   \n",
       "4               57          True    0.214795           -5          5.119430   \n",
       "\n",
       "   AvgThreePointerHitRateDiff  AvgFieldGoalsPercentageDiff  \\\n",
       "0                    0.020953                     0.032912   \n",
       "1                    0.011540                     0.024075   \n",
       "2                    0.012925                     0.021727   \n",
       "3                    0.050597                     0.056380   \n",
       "4                    0.015183                     0.033849   \n",
       "\n",
       "   AvgFreeThrowHitRateDiff  \n",
       "0                 0.048511  \n",
       "1                 0.010630  \n",
       "2                -0.001111  \n",
       "3                 0.015622  \n",
       "4                 0.030599  \n",
       "\n",
       "[5 rows x 43 columns]"
      ]
     },
     "execution_count": 49,
     "metadata": {},
     "output_type": "execute_result"
    }
   ],
   "source": [
    "# All combinations of games with feartures\n",
    "tourney_pairs.head()"
   ]
  },
  {
   "cell_type": "code",
   "execution_count": 50,
   "metadata": {},
   "outputs": [
    {
     "data": {
      "text/html": [
       "<div>\n",
       "<style scoped>\n",
       "    .dataframe tbody tr th:only-of-type {\n",
       "        vertical-align: middle;\n",
       "    }\n",
       "\n",
       "    .dataframe tbody tr th {\n",
       "        vertical-align: top;\n",
       "    }\n",
       "\n",
       "    .dataframe thead th {\n",
       "        text-align: right;\n",
       "    }\n",
       "</style>\n",
       "<table border=\"1\" class=\"dataframe\">\n",
       "  <thead>\n",
       "    <tr style=\"text-align: right;\">\n",
       "      <th></th>\n",
       "      <th>TeamID</th>\n",
       "      <th>TeamIDOpp</th>\n",
       "      <th>Win</th>\n",
       "      <th>League</th>\n",
       "      <th>Seed</th>\n",
       "      <th>SeedNum</th>\n",
       "      <th>SeedOpp</th>\n",
       "      <th>SeedNumOpp</th>\n",
       "      <th>Season</th>\n",
       "      <th>AvgScoreDiff</th>\n",
       "      <th>...</th>\n",
       "      <th>OppMinScoreDiff</th>\n",
       "      <th>OppWinPercentage</th>\n",
       "      <th>OppMaxScoreDiff</th>\n",
       "      <th>BaselinePred</th>\n",
       "      <th>WinPctDiff</th>\n",
       "      <th>SeedNumDiff</th>\n",
       "      <th>AvgScoreDiffDiff</th>\n",
       "      <th>AvgThreePointerHitRateDiff</th>\n",
       "      <th>AvgFieldGoalsPercentageDiff</th>\n",
       "      <th>AvgFreeThrowHitRateDiff</th>\n",
       "    </tr>\n",
       "  </thead>\n",
       "  <tbody>\n",
       "    <tr>\n",
       "      <th>0</th>\n",
       "      <td>1163</td>\n",
       "      <td>1391</td>\n",
       "      <td>0</td>\n",
       "      <td>M</td>\n",
       "      <td>W01</td>\n",
       "      <td>1.0</td>\n",
       "      <td>W16</td>\n",
       "      <td>16.0</td>\n",
       "      <td>2024.0</td>\n",
       "      <td>17.058824</td>\n",
       "      <td>...</td>\n",
       "      <td>-31.0</td>\n",
       "      <td>0.612903</td>\n",
       "      <td>21.0</td>\n",
       "      <td>True</td>\n",
       "      <td>0.298861</td>\n",
       "      <td>-15.0</td>\n",
       "      <td>17.703985</td>\n",
       "      <td>-0.000205</td>\n",
       "      <td>0.037091</td>\n",
       "      <td>-0.003491</td>\n",
       "    </tr>\n",
       "    <tr>\n",
       "      <th>1</th>\n",
       "      <td>1194</td>\n",
       "      <td>1321</td>\n",
       "      <td>0</td>\n",
       "      <td>M</td>\n",
       "      <td>W08</td>\n",
       "      <td>8.0</td>\n",
       "      <td>W09</td>\n",
       "      <td>9.0</td>\n",
       "      <td>2024.0</td>\n",
       "      <td>9.272727</td>\n",
       "      <td>...</td>\n",
       "      <td>-30.0</td>\n",
       "      <td>0.656250</td>\n",
       "      <td>32.0</td>\n",
       "      <td>True</td>\n",
       "      <td>0.101326</td>\n",
       "      <td>-1.0</td>\n",
       "      <td>4.585227</td>\n",
       "      <td>-0.048905</td>\n",
       "      <td>0.023238</td>\n",
       "      <td>-0.021849</td>\n",
       "    </tr>\n",
       "    <tr>\n",
       "      <th>2</th>\n",
       "      <td>1361</td>\n",
       "      <td>1412</td>\n",
       "      <td>0</td>\n",
       "      <td>M</td>\n",
       "      <td>W05</td>\n",
       "      <td>5.0</td>\n",
       "      <td>W12</td>\n",
       "      <td>12.0</td>\n",
       "      <td>2024.0</td>\n",
       "      <td>6.843750</td>\n",
       "      <td>...</td>\n",
       "      <td>-23.0</td>\n",
       "      <td>0.666667</td>\n",
       "      <td>28.0</td>\n",
       "      <td>True</td>\n",
       "      <td>0.020833</td>\n",
       "      <td>-7.0</td>\n",
       "      <td>5.267992</td>\n",
       "      <td>-0.015577</td>\n",
       "      <td>-0.011408</td>\n",
       "      <td>-0.006092</td>\n",
       "    </tr>\n",
       "    <tr>\n",
       "      <th>3</th>\n",
       "      <td>1120</td>\n",
       "      <td>1463</td>\n",
       "      <td>1</td>\n",
       "      <td>M</td>\n",
       "      <td>W04</td>\n",
       "      <td>4.0</td>\n",
       "      <td>W13</td>\n",
       "      <td>13.0</td>\n",
       "      <td>2024.0</td>\n",
       "      <td>15.294118</td>\n",
       "      <td>...</td>\n",
       "      <td>-15.0</td>\n",
       "      <td>0.689655</td>\n",
       "      <td>25.0</td>\n",
       "      <td>True</td>\n",
       "      <td>0.104462</td>\n",
       "      <td>-9.0</td>\n",
       "      <td>9.880325</td>\n",
       "      <td>0.004155</td>\n",
       "      <td>0.012698</td>\n",
       "      <td>0.045634</td>\n",
       "    </tr>\n",
       "    <tr>\n",
       "      <th>4</th>\n",
       "      <td>1140</td>\n",
       "      <td>1182</td>\n",
       "      <td>0</td>\n",
       "      <td>M</td>\n",
       "      <td>W06</td>\n",
       "      <td>6.0</td>\n",
       "      <td>W11</td>\n",
       "      <td>11.0</td>\n",
       "      <td>2024.0</td>\n",
       "      <td>11.939394</td>\n",
       "      <td>...</td>\n",
       "      <td>-19.0</td>\n",
       "      <td>0.676471</td>\n",
       "      <td>22.0</td>\n",
       "      <td>True</td>\n",
       "      <td>0.020499</td>\n",
       "      <td>-5.0</td>\n",
       "      <td>8.468806</td>\n",
       "      <td>0.015151</td>\n",
       "      <td>0.029345</td>\n",
       "      <td>-0.006771</td>\n",
       "    </tr>\n",
       "  </tbody>\n",
       "</table>\n",
       "<p>5 rows × 44 columns</p>\n",
       "</div>"
      ],
      "text/plain": [
       "   TeamID  TeamIDOpp  Win League Seed  SeedNum SeedOpp  SeedNumOpp  Season  \\\n",
       "0    1163       1391    0      M  W01      1.0     W16        16.0  2024.0   \n",
       "1    1194       1321    0      M  W08      8.0     W09         9.0  2024.0   \n",
       "2    1361       1412    0      M  W05      5.0     W12        12.0  2024.0   \n",
       "3    1120       1463    1      M  W04      4.0     W13        13.0  2024.0   \n",
       "4    1140       1182    0      M  W06      6.0     W11        11.0  2024.0   \n",
       "\n",
       "   AvgScoreDiff  ...  OppMinScoreDiff  OppWinPercentage  OppMaxScoreDiff  \\\n",
       "0     17.058824  ...            -31.0          0.612903             21.0   \n",
       "1      9.272727  ...            -30.0          0.656250             32.0   \n",
       "2      6.843750  ...            -23.0          0.666667             28.0   \n",
       "3     15.294118  ...            -15.0          0.689655             25.0   \n",
       "4     11.939394  ...            -19.0          0.676471             22.0   \n",
       "\n",
       "   BaselinePred  WinPctDiff  SeedNumDiff  AvgScoreDiffDiff  \\\n",
       "0          True    0.298861        -15.0         17.703985   \n",
       "1          True    0.101326         -1.0          4.585227   \n",
       "2          True    0.020833         -7.0          5.267992   \n",
       "3          True    0.104462         -9.0          9.880325   \n",
       "4          True    0.020499         -5.0          8.468806   \n",
       "\n",
       "   AvgThreePointerHitRateDiff  AvgFieldGoalsPercentageDiff  \\\n",
       "0                   -0.000205                     0.037091   \n",
       "1                   -0.048905                     0.023238   \n",
       "2                   -0.015577                    -0.011408   \n",
       "3                    0.004155                     0.012698   \n",
       "4                    0.015151                     0.029345   \n",
       "\n",
       "   AvgFreeThrowHitRateDiff  \n",
       "0                -0.003491  \n",
       "1                -0.021849  \n",
       "2                -0.006092  \n",
       "3                 0.045634  \n",
       "4                -0.006771  \n",
       "\n",
       "[5 rows x 44 columns]"
      ]
     },
     "execution_count": 50,
     "metadata": {},
     "output_type": "execute_result"
    }
   ],
   "source": [
    "# Merge two table\n",
    "tourney_2024 = (\n",
    "    tourney_2024.merge(\n",
    "        tourney_pairs,\n",
    "        on=[\"TeamID\", \"TeamIDOpp\", \"League\"],\n",
    "        how=\"left\",\n",
    "    )\n",
    ")\n",
    "\n",
    "tourney_2024.head()"
   ]
  },
  {
   "cell_type": "code",
   "execution_count": 51,
   "metadata": {},
   "outputs": [
    {
     "data": {
      "application/vnd.jupyter.widget-view+json": {
       "model_id": "4b54f14e61584f1b8f30c9d9b3cb50a1",
       "version_major": 2,
       "version_minor": 0
      },
      "text/plain": [
       "Output()"
      ]
     },
     "metadata": {},
     "output_type": "display_data"
    },
    {
     "data": {
      "text/html": [
       "<pre style=\"white-space:pre;overflow-x:auto;line-height:normal;font-family:Menlo,'DejaVu Sans Mono',consolas,'Courier New',monospace\"></pre>\n"
      ],
      "text/plain": []
     },
     "metadata": {},
     "output_type": "display_data"
    },
    {
     "data": {
      "text/html": [
       "<pre style=\"white-space:pre;overflow-x:auto;line-height:normal;font-family:Menlo,'DejaVu Sans Mono',consolas,'Courier New',monospace\">\n",
       "</pre>\n"
      ],
      "text/plain": [
       "\n"
      ]
     },
     "metadata": {},
     "output_type": "display_data"
    }
   ],
   "source": [
    "# Train with all previou data\n",
    "with pm.Model() as logistic_model:\n",
    "  \n",
    "    # Set Normal priors for the coefficients\n",
    "    intercept = pm.Normal('intercept', mu=0, sigma=1)\n",
    "    betas = pm.Normal('betas', mu=0, sigma=np.array(np.round(X.std(),2)), shape=X.shape[1])\n",
    "\n",
    "    # set predictors as shared variable\n",
    "    predictors = pm.MutableData(\"predictors\", X.values)\n",
    "\n",
    "    # Likelihood (sampling distribution) of observations\n",
    "    likelihood = pm.Deterministic(\"likelihood\", pm.invlogit(intercept + pm.math.dot(predictors, betas)))                     \n",
    "\n",
    "    # Bernoulli random vector with probability of success\n",
    "    outcome  = pm.Bernoulli('outcome', p=likelihood, observed=y)\n",
    "\n",
    "    sampler = pm.NUTS() # Use the no-uturn sampler\n",
    "    #sampler = pm.Slice() # Use the slice sampling algorithm\n",
    "\n",
    "    # Sample from the posterior\n",
    "    trace = pm.sample(draws=5000, step = sampler, chains=4, tune=1000, random_seed=100)"
   ]
  },
  {
   "cell_type": "code",
   "execution_count": 52,
   "metadata": {},
   "outputs": [
    {
     "data": {
      "application/vnd.jupyter.widget-view+json": {
       "model_id": "7fdc753c3151419cbe7c79d64ba11be6",
       "version_major": 2,
       "version_minor": 0
      },
      "text/plain": [
       "Output()"
      ]
     },
     "metadata": {},
     "output_type": "display_data"
    },
    {
     "data": {
      "text/html": [
       "<pre style=\"white-space:pre;overflow-x:auto;line-height:normal;font-family:Menlo,'DejaVu Sans Mono',consolas,'Courier New',monospace\"></pre>\n"
      ],
      "text/plain": []
     },
     "metadata": {},
     "output_type": "display_data"
    },
    {
     "data": {
      "text/html": [
       "<pre style=\"white-space:pre;overflow-x:auto;line-height:normal;font-family:Menlo,'DejaVu Sans Mono',consolas,'Courier New',monospace\">\n",
       "</pre>\n"
      ],
      "text/plain": [
       "\n"
      ]
     },
     "metadata": {},
     "output_type": "display_data"
    },
    {
     "name": "stdout",
     "output_type": "stream",
     "text": [
      "Bayesian Model: Accuracy: 0.6666666666666666\n"
     ]
    }
   ],
   "source": [
    "# Predict with real 2024 tourney\n",
    "X_test_2024 = tourney_2024[features]\n",
    "y_test_2024 = tourney_2024[target]\n",
    "\n",
    "with logistic_model:\n",
    "    # update values of predictors:\n",
    "    pm.set_data({\"predictors\": X_test_2024.values})\n",
    "\n",
    "    # use the updated values and predict outcomes and probabilities:\n",
    "    trace = pm.sample_posterior_predictive(\n",
    "        trace,\n",
    "        var_names=[\"likelihood\"],\n",
    "        return_inferencedata=True,\n",
    "        predictions=True,\n",
    "        extend_inferencedata=True\n",
    "    )\n",
    "\n",
    "y_pred_2024 = trace.predictions[\"likelihood\"].mean((\"chain\", \"draw\")).values\n",
    "y_pred_2024 = y_pred_2024 > 0.5\n",
    "accuracy = accuracy_score(y_test_2024, y_pred_2024)\n",
    "\n",
    "# Print the average accuracy across all folds\n",
    "print(f\"Bayesian Model: Accuracy: {accuracy}\")"
   ]
  }
 ],
 "metadata": {
  "kernelspec": {
   "display_name": "base",
   "language": "python",
   "name": "python3"
  },
  "language_info": {
   "codemirror_mode": {
    "name": "ipython",
    "version": 3
   },
   "file_extension": ".py",
   "mimetype": "text/x-python",
   "name": "python",
   "nbconvert_exporter": "python",
   "pygments_lexer": "ipython3",
   "version": "3.12.3"
  }
 },
 "nbformat": 4,
 "nbformat_minor": 2
}
